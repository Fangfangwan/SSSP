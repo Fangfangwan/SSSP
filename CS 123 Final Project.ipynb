{
 "cells": [
  {
   "cell_type": "code",
   "execution_count": 122,
   "metadata": {
    "collapsed": true
   },
   "outputs": [],
   "source": [
    "import pandas as pd\n",
    "import numpy as np\n",
    "import scipy\n",
    "\n",
    "#All these packages need to be installed from pip\n",
    "import gensim#For word2vec, etc\n",
    "import requests #For downloading our datasets\n",
    "import nltk #For stop words and stemmers\n",
    "import matplotlib.pyplot as plt #For graphics\n",
    "import seaborn #Makes the graphics look nicer\n",
    "import sklearn.metrics.pairwise #For cosine similarity\n",
    "import sklearn.manifold #For T-SNE\n",
    "import sklearn.decomposition #For PCA\n",
    "\n",
    "%matplotlib inline\n",
    "\n",
    "import os #For looking through files\n",
    "import os.path #For managing file paths\n",
    "\n",
    "from PyDictionary import PyDictionary\n",
    "import json\n",
    "import bs4\n",
    "import copy"
   ]
  },
  {
   "cell_type": "markdown",
   "metadata": {},
   "source": [
    "# Corpus of Late Modern English (CLMET 3.1)"
   ]
  },
  {
   "cell_type": "markdown",
   "metadata": {},
   "source": [
    "## Data Pre-Processing (Parsing, Word Segmentation, Removal of Stopwords)"
   ]
  },
  {
   "cell_type": "code",
   "execution_count": null,
   "metadata": {},
   "outputs": [],
   "source": [
    "#parsing CLMET data, and store data in pandas DataFrame\n",
    "\n",
    "dataDir = '/Users/lingdai/Downloads/clmet/corpus/txt/plain/'\n",
    "\n",
    "CLMET3DF = pandas.DataFrame()\n",
    "\n",
    "DocDict = {\"id\":[],\n",
    "           \"file\":[],\n",
    "           \"period\":[],\n",
    "           \"quartcent\":[],\n",
    "           \"decade\":[],\n",
    "           \"year\":[],\n",
    "           \"genre\":[],\n",
    "           \"subgenre\":[],\n",
    "           \"title\":[],\n",
    "           \"author\":[],\n",
    "           \"gender\":[],\n",
    "           \"text\":[]}\n",
    "\n",
    "for Doc in ((dataDir + file) for file in os.listdir(dataDir) if file.endswith(\".txt\")):\n",
    "    file = open(Doc, \"r\")\n",
    "    soup = bs4.BeautifulSoup(file.read(), \"html.parser\")\n",
    "    DocDict['id'].append(soup.find(\"id\").text)\n",
    "    DocDict['file'].append(soup.find(\"file\").text)\n",
    "    DocDict['period'].append(soup.find(\"period\").text) #file_name\n",
    "    DocDict['quartcent'].append(soup.find(\"quartcent\").text) #file_name\n",
    "    DocDict['decade'].append(soup.find(\"decade\").text) #file_name\n",
    "    DocDict['year'].append(soup.find(\"year\").text) #file_name\n",
    "    DocDict['genre'].append(soup.find(\"genre\").text) #file_name\n",
    "    DocDict['subgenre'].append(soup.find(\"subgenre\").text) #file_name\n",
    "    DocDict['title'].append(soup.find(\"title\").text) #file_name\n",
    "    DocDict['author'].append(soup.find(\"author\").text) #file_name\n",
    "    DocDict['gender'].append(soup.find(\"gender\").text) #file_name\n",
    "    DocDict['text'].append(soup.find(\"text\").text) #file_name\n",
    "\n",
    "CLMET3DF = pandas.DataFrame(DocDict)\n",
    "\n",
    "CLMET3DF.head()"
   ]
  },
  {
   "cell_type": "code",
   "execution_count": 262,
   "metadata": {
    "collapsed": true
   },
   "outputs": [],
   "source": [
    "CLMET3DF.to_csv(\"CLMET3DF.txt\",sep=\"|\",header = True)"
   ]
  },
  {
   "cell_type": "code",
   "execution_count": 83,
   "metadata": {},
   "outputs": [
    {
     "data": {
      "text/html": [
       "<div>\n",
       "<style scoped>\n",
       "    .dataframe tbody tr th:only-of-type {\n",
       "        vertical-align: middle;\n",
       "    }\n",
       "\n",
       "    .dataframe tbody tr th {\n",
       "        vertical-align: top;\n",
       "    }\n",
       "\n",
       "    .dataframe thead th {\n",
       "        text-align: right;\n",
       "    }\n",
       "</style>\n",
       "<table border=\"1\" class=\"dataframe\">\n",
       "  <thead>\n",
       "    <tr style=\"text-align: right;\">\n",
       "      <th></th>\n",
       "      <th>id</th>\n",
       "      <th>file</th>\n",
       "      <th>title</th>\n",
       "      <th>year</th>\n",
       "      <th>period</th>\n",
       "      <th>quartcent</th>\n",
       "      <th>decade</th>\n",
       "      <th>author</th>\n",
       "      <th>gender</th>\n",
       "      <th>genre</th>\n",
       "      <th>subgenre</th>\n",
       "      <th>text</th>\n",
       "    </tr>\n",
       "  </thead>\n",
       "  <tbody>\n",
       "    <tr>\n",
       "      <th>308</th>\n",
       "      <td>1</td>\n",
       "      <td>CLMET3_1_1_1.txt</td>\n",
       "      <td>A treatise concerning the principles of human ...</td>\n",
       "      <td>1710.0</td>\n",
       "      <td>1710-1780</td>\n",
       "      <td>1700-1724</td>\n",
       "      <td>1710s</td>\n",
       "      <td>Berkeley, George</td>\n",
       "      <td>M</td>\n",
       "      <td>Treatise</td>\n",
       "      <td>treat</td>\n",
       "      <td>\\n\\nA TREATISE Concerning the PRINCIPLES OF Hu...</td>\n",
       "    </tr>\n",
       "    <tr>\n",
       "      <th>283</th>\n",
       "      <td>2</td>\n",
       "      <td>CLMET3_1_1_2.txt</td>\n",
       "      <td>Three hours after marriage</td>\n",
       "      <td>1717.0</td>\n",
       "      <td>1710-1780</td>\n",
       "      <td>1700-1724</td>\n",
       "      <td>1710s</td>\n",
       "      <td>Gay, John</td>\n",
       "      <td>M</td>\n",
       "      <td>Drama</td>\n",
       "      <td>drama</td>\n",
       "      <td>\\n\\nThree Hours after\\n\\n\\nMARRIAGE :\\n\\n\\nA\\n...</td>\n",
       "    </tr>\n",
       "    <tr>\n",
       "      <th>306</th>\n",
       "      <td>3</td>\n",
       "      <td>CLMET3_1_1_3.txt</td>\n",
       "      <td>The beggarís opera</td>\n",
       "      <td>1728.0</td>\n",
       "      <td>1710-1780</td>\n",
       "      <td>1725-1749</td>\n",
       "      <td>1720s</td>\n",
       "      <td>Gay, John</td>\n",
       "      <td>M</td>\n",
       "      <td>Drama</td>\n",
       "      <td>drama</td>\n",
       "      <td>\\n\\nDRAMATIS PERSONAEÆ .\\n\\n\\nMEN .\\n\\n\\nMR. P...</td>\n",
       "    </tr>\n",
       "    <tr>\n",
       "      <th>236</th>\n",
       "      <td>4</td>\n",
       "      <td>CLMET3_1_1_4.txt</td>\n",
       "      <td>A defence of free-thinking in mathematics</td>\n",
       "      <td>1735.0</td>\n",
       "      <td>1710-1780</td>\n",
       "      <td>1725-1749</td>\n",
       "      <td>1730s</td>\n",
       "      <td>Berkeley, George</td>\n",
       "      <td>M</td>\n",
       "      <td>Treatise</td>\n",
       "      <td>treat</td>\n",
       "      <td>\\n\\nA defence of free-thinking in mathematics ...</td>\n",
       "    </tr>\n",
       "    <tr>\n",
       "      <th>255</th>\n",
       "      <td>5</td>\n",
       "      <td>CLMET3_1_1_5.txt</td>\n",
       "      <td>The country housewife and ladyís director</td>\n",
       "      <td>1732.0</td>\n",
       "      <td>1710-1780</td>\n",
       "      <td>1725-1749</td>\n",
       "      <td>1730s</td>\n",
       "      <td>Bradley, Richard</td>\n",
       "      <td>M</td>\n",
       "      <td>Other</td>\n",
       "      <td>x</td>\n",
       "      <td>\\n\\nTO THE LADIES OF GREAT BRITAIN , &amp;c..;\\n\\n...</td>\n",
       "    </tr>\n",
       "  </tbody>\n",
       "</table>\n",
       "</div>"
      ],
      "text/plain": [
       "     id              file                                              title  \\\n",
       "308   1  CLMET3_1_1_1.txt  A treatise concerning the principles of human ...   \n",
       "283   2  CLMET3_1_1_2.txt                         Three hours after marriage   \n",
       "306   3  CLMET3_1_1_3.txt                                 The beggarís opera   \n",
       "236   4  CLMET3_1_1_4.txt          A defence of free-thinking in mathematics   \n",
       "255   5  CLMET3_1_1_5.txt          The country housewife and ladyís director   \n",
       "\n",
       "       year     period  quartcent decade            author gender     genre  \\\n",
       "308  1710.0  1710-1780  1700-1724  1710s  Berkeley, George      M  Treatise   \n",
       "283  1717.0  1710-1780  1700-1724  1710s         Gay, John      M     Drama   \n",
       "306  1728.0  1710-1780  1725-1749  1720s         Gay, John      M     Drama   \n",
       "236  1735.0  1710-1780  1725-1749  1730s  Berkeley, George      M  Treatise   \n",
       "255  1732.0  1710-1780  1725-1749  1730s  Bradley, Richard      M     Other   \n",
       "\n",
       "    subgenre                                               text  \n",
       "308    treat  \\n\\nA TREATISE Concerning the PRINCIPLES OF Hu...  \n",
       "283    drama  \\n\\nThree Hours after\\n\\n\\nMARRIAGE :\\n\\n\\nA\\n...  \n",
       "306    drama  \\n\\nDRAMATIS PERSONAEÆ .\\n\\n\\nMEN .\\n\\n\\nMR. P...  \n",
       "236    treat  \\n\\nA defence of free-thinking in mathematics ...  \n",
       "255        x  \\n\\nTO THE LADIES OF GREAT BRITAIN , &c..;\\n\\n...  "
      ]
     },
     "execution_count": 83,
     "metadata": {},
     "output_type": "execute_result"
    }
   ],
   "source": [
    "CLMET3DF = CLMET3DF.convert_objects(convert_numeric=True)\n",
    "CLMET3DF = CLMET3DF.sort_values(by = ['id'])\n",
    "CLMET3DF = CLMET3DF[['id', 'file', 'title', 'year', 'period','quartcent','decade',\n",
    "                     'author','gender','genre','subgenre','text']]\n",
    "CLMET3DF.head()"
   ]
  },
  {
   "cell_type": "code",
   "execution_count": null,
   "metadata": {},
   "outputs": [],
   "source": [
    "#tokenize and normalize sentences\n",
    "CLMET3DF['tokenized_sents'] = CLMET3DF['text'].apply(lambda x: [nltk.word_tokenize(s) for s in nltk.sent_tokenize(x)])\n",
    "CLMET3DF['normalized_sents'] = CLMET3DF['tokenized_sents'].apply(lambda x: [lucem_illud.normalizeTokens(s, stopwordLst = lucem_illud.stop_words_basic) for s in x])\n",
    "CLMET3DF.head()"
   ]
  },
  {
   "cell_type": "markdown",
   "metadata": {},
   "source": [
    "## Write Processed Text to .txt Files"
   ]
  },
  {
   "cell_type": "code",
   "execution_count": 290,
   "metadata": {},
   "outputs": [
    {
     "data": {
      "text/plain": [
       "675465"
      ]
     },
     "execution_count": 290,
     "metadata": {},
     "output_type": "execute_result"
    }
   ],
   "source": [
    "test_input = CLMET3DF[CLMET3DF['period']=='1850-1920']['normalized_sents'].sum()\n",
    "len(test_input)"
   ]
  },
  {
   "cell_type": "code",
   "execution_count": 278,
   "metadata": {},
   "outputs": [
    {
     "name": "stdout",
     "output_type": "stream",
     "text": [
      "history, lady, julia, mandeville\n"
     ]
    }
   ],
   "source": [
    "sent = test_input[0]\n",
    "line = \"\"\n",
    "for word in sent[:-1]:\n",
    "    line += (word + \", \")\n",
    "line += sent[-1]\n",
    "print(line)"
   ]
  },
  {
   "cell_type": "code",
   "execution_count": 291,
   "metadata": {
    "collapsed": true
   },
   "outputs": [],
   "source": [
    "f = open('period_1850_1920.txt','w')\n",
    "\n",
    "for sent in test_input:\n",
    "    if len(sent) > 0:\n",
    "        line = \"\"\n",
    "        for word in sent[:-1]:\n",
    "            line += (word + \", \")\n",
    "        line += sent[-1]\n",
    "        f.write(line+\"\\n\")\n",
    "        \n",
    "f.close()"
   ]
  },
  {
   "cell_type": "markdown",
   "metadata": {},
   "source": [
    "## Load MapReduce Word Count Results"
   ]
  },
  {
   "cell_type": "code",
   "execution_count": 311,
   "metadata": {},
   "outputs": [
    {
     "data": {
      "text/html": [
       "<div>\n",
       "<style scoped>\n",
       "    .dataframe tbody tr th:only-of-type {\n",
       "        vertical-align: middle;\n",
       "    }\n",
       "\n",
       "    .dataframe tbody tr th {\n",
       "        vertical-align: top;\n",
       "    }\n",
       "\n",
       "    .dataframe thead th {\n",
       "        text-align: right;\n",
       "    }\n",
       "</style>\n",
       "<table border=\"1\" class=\"dataframe\">\n",
       "  <thead>\n",
       "    <tr style=\"text-align: right;\">\n",
       "      <th></th>\n",
       "      <th>word</th>\n",
       "      <th>count</th>\n",
       "    </tr>\n",
       "  </thead>\n",
       "  <tbody>\n",
       "    <tr>\n",
       "      <th>20302</th>\n",
       "      <td>one</td>\n",
       "      <td>107484</td>\n",
       "    </tr>\n",
       "    <tr>\n",
       "      <th>79697</th>\n",
       "      <td>would</td>\n",
       "      <td>97870</td>\n",
       "    </tr>\n",
       "    <tr>\n",
       "      <th>44661</th>\n",
       "      <td>said</td>\n",
       "      <td>81781</td>\n",
       "    </tr>\n",
       "    <tr>\n",
       "      <th>72248</th>\n",
       "      <td>upon</td>\n",
       "      <td>65799</td>\n",
       "    </tr>\n",
       "    <tr>\n",
       "      <th>114640</th>\n",
       "      <td>could</td>\n",
       "      <td>62004</td>\n",
       "    </tr>\n",
       "  </tbody>\n",
       "</table>\n",
       "</div>"
      ],
      "text/plain": [
       "         word   count\n",
       "20302     one  107484\n",
       "79697   would   97870\n",
       "44661    said   81781\n",
       "72248    upon   65799\n",
       "114640  could   62004"
      ]
     },
     "execution_count": 311,
     "metadata": {},
     "output_type": "execute_result"
    }
   ],
   "source": [
    "total_count_df = pandas.read_csv(\"total_count.txt\", delim_whitespace=True,\n",
    "                                 header=None, names = [\"word\", \"count\"])\n",
    "\n",
    "total_count_df = total_count_df.sort_values(by = [\"count\"], axis = 0, ascending = False)\n",
    "total_count_df.head()"
   ]
  },
  {
   "cell_type": "markdown",
   "metadata": {},
   "source": [
    "## Import MapReduce Collocation Results"
   ]
  },
  {
   "cell_type": "code",
   "execution_count": 376,
   "metadata": {},
   "outputs": [
    {
     "data": {
      "text/html": [
       "<div>\n",
       "<style scoped>\n",
       "    .dataframe tbody tr th:only-of-type {\n",
       "        vertical-align: middle;\n",
       "    }\n",
       "\n",
       "    .dataframe tbody tr th {\n",
       "        vertical-align: top;\n",
       "    }\n",
       "\n",
       "    .dataframe thead th {\n",
       "        text-align: right;\n",
       "    }\n",
       "</style>\n",
       "<table border=\"1\" class=\"dataframe\">\n",
       "  <thead>\n",
       "    <tr style=\"text-align: right;\">\n",
       "      <th></th>\n",
       "      <th>word</th>\n",
       "      <th>vec</th>\n",
       "    </tr>\n",
       "  </thead>\n",
       "  <tbody>\n",
       "    <tr>\n",
       "      <th>0</th>\n",
       "      <td>knolly</td>\n",
       "      <td>[0.0, 0.0, 0.0, 0.0, 0.0, 0.0, 0.0, 0.0, 0.0, ...</td>\n",
       "    </tr>\n",
       "    <tr>\n",
       "      <th>1</th>\n",
       "      <td>knollys</td>\n",
       "      <td>[0.125, 0.0, 0.0, 0.0, 0.0, 0.25, 0.0, 0.0, 0....</td>\n",
       "    </tr>\n",
       "    <tr>\n",
       "      <th>2</th>\n",
       "      <td>knolman</td>\n",
       "      <td>[0.0, 0.0, 0.0, 0.0, 0.0, 0.0, 0.0, 0.0, 0.0, ...</td>\n",
       "    </tr>\n",
       "    <tr>\n",
       "      <th>3</th>\n",
       "      <td>knone</td>\n",
       "      <td>[0.0, 0.0, 0.0, 0.0, 0.0, 0.0, 0.0, 0.0, 0.0, ...</td>\n",
       "    </tr>\n",
       "    <tr>\n",
       "      <th>4</th>\n",
       "      <td>knot</td>\n",
       "      <td>[0.1, 0.15, 0.1375, 0.125, 0.0875, 0.075, 0.05...</td>\n",
       "    </tr>\n",
       "  </tbody>\n",
       "</table>\n",
       "</div>"
      ],
      "text/plain": [
       "      word                                                vec\n",
       "0   knolly  [0.0, 0.0, 0.0, 0.0, 0.0, 0.0, 0.0, 0.0, 0.0, ...\n",
       "1  knollys  [0.125, 0.0, 0.0, 0.0, 0.0, 0.25, 0.0, 0.0, 0....\n",
       "2  knolman  [0.0, 0.0, 0.0, 0.0, 0.0, 0.0, 0.0, 0.0, 0.0, ...\n",
       "3    knone  [0.0, 0.0, 0.0, 0.0, 0.0, 0.0, 0.0, 0.0, 0.0, ...\n",
       "4     knot  [0.1, 0.15, 0.1375, 0.125, 0.0875, 0.075, 0.05..."
      ]
     },
     "execution_count": 376,
     "metadata": {},
     "output_type": "execute_result"
    }
   ],
   "source": [
    "#import collocation results (CLMET, period 1710-1780)\n",
    "\n",
    "p1710_vec_df = pandas.read_csv(\"p_1710_1780_colloc.txt\", delimiter = \"\t\",\n",
    "                               header=None, names = ['word','vec'])\n",
    "p1710_vec_df['vec'] = p1710_vec_df['vec'].apply(json.loads)\n",
    "p1710_vec_df.head()"
   ]
  },
  {
   "cell_type": "code",
   "execution_count": 375,
   "metadata": {},
   "outputs": [
    {
     "data": {
      "text/html": [
       "<div>\n",
       "<style scoped>\n",
       "    .dataframe tbody tr th:only-of-type {\n",
       "        vertical-align: middle;\n",
       "    }\n",
       "\n",
       "    .dataframe tbody tr th {\n",
       "        vertical-align: top;\n",
       "    }\n",
       "\n",
       "    .dataframe thead th {\n",
       "        text-align: right;\n",
       "    }\n",
       "</style>\n",
       "<table border=\"1\" class=\"dataframe\">\n",
       "  <thead>\n",
       "    <tr style=\"text-align: right;\">\n",
       "      <th></th>\n",
       "      <th>word</th>\n",
       "      <th>vec</th>\n",
       "    </tr>\n",
       "  </thead>\n",
       "  <tbody>\n",
       "    <tr>\n",
       "      <th>0</th>\n",
       "      <td>lactea</td>\n",
       "      <td>[0.0, 0.0, 0.0, 0.0, 0.0, 0.0, 0.0, 0.0, 0.0, ...</td>\n",
       "    </tr>\n",
       "    <tr>\n",
       "      <th>1</th>\n",
       "      <td>lacteal</td>\n",
       "      <td>[0.0, 0.0, 0.0, 0.0, 1.0, 0.0, 0.0, 0.0, 0.0, ...</td>\n",
       "    </tr>\n",
       "    <tr>\n",
       "      <th>2</th>\n",
       "      <td>lactis</td>\n",
       "      <td>[0.0, 0.0, 0.0, 0.0, 0.0, 0.0, 0.0, 0.0, 0.0, ...</td>\n",
       "    </tr>\n",
       "    <tr>\n",
       "      <th>3</th>\n",
       "      <td>lacustrine</td>\n",
       "      <td>[0.0, 0.0, 0.0, 0.0, 0.0, 0.0, 0.0, 0.0, 0.0, ...</td>\n",
       "    </tr>\n",
       "    <tr>\n",
       "      <th>4</th>\n",
       "      <td>lacy</td>\n",
       "      <td>[0.0, 0.0, 0.1111111111111111, 0.0, 0.11111111...</td>\n",
       "    </tr>\n",
       "  </tbody>\n",
       "</table>\n",
       "</div>"
      ],
      "text/plain": [
       "         word                                                vec\n",
       "0      lactea  [0.0, 0.0, 0.0, 0.0, 0.0, 0.0, 0.0, 0.0, 0.0, ...\n",
       "1     lacteal  [0.0, 0.0, 0.0, 0.0, 1.0, 0.0, 0.0, 0.0, 0.0, ...\n",
       "2      lactis  [0.0, 0.0, 0.0, 0.0, 0.0, 0.0, 0.0, 0.0, 0.0, ...\n",
       "3  lacustrine  [0.0, 0.0, 0.0, 0.0, 0.0, 0.0, 0.0, 0.0, 0.0, ...\n",
       "4        lacy  [0.0, 0.0, 0.1111111111111111, 0.0, 0.11111111..."
      ]
     },
     "execution_count": 375,
     "metadata": {},
     "output_type": "execute_result"
    }
   ],
   "source": [
    "#import collocation results (CLMET, period 1780-1850)\n",
    "\n",
    "p1780_vec_df = pandas.read_csv(\"p_1780_1850_colloc.txt\", delimiter = \"\t\",\n",
    "                               header=None, names = ['word','vec'])\n",
    "p1780_vec_df['vec'] = p1780_vec_df['vec'].apply(json.loads)\n",
    "p1780_vec_df.head()"
   ]
  },
  {
   "cell_type": "code",
   "execution_count": 374,
   "metadata": {},
   "outputs": [
    {
     "data": {
      "text/html": [
       "<div>\n",
       "<style scoped>\n",
       "    .dataframe tbody tr th:only-of-type {\n",
       "        vertical-align: middle;\n",
       "    }\n",
       "\n",
       "    .dataframe tbody tr th {\n",
       "        vertical-align: top;\n",
       "    }\n",
       "\n",
       "    .dataframe thead th {\n",
       "        text-align: right;\n",
       "    }\n",
       "</style>\n",
       "<table border=\"1\" class=\"dataframe\">\n",
       "  <thead>\n",
       "    <tr style=\"text-align: right;\">\n",
       "      <th></th>\n",
       "      <th>word</th>\n",
       "      <th>vec</th>\n",
       "    </tr>\n",
       "  </thead>\n",
       "  <tbody>\n",
       "    <tr>\n",
       "      <th>0</th>\n",
       "      <td>langman</td>\n",
       "      <td>[0.0, 0.0, 0.0, 0.0, 0.0, 0.0, 0.0, 0.0, 0.0, ...</td>\n",
       "    </tr>\n",
       "    <tr>\n",
       "      <th>1</th>\n",
       "      <td>langres</td>\n",
       "      <td>[0.0, 0.0, 0.0, 0.0, 0.0, 0.0, 0.0, 0.0, 0.0, ...</td>\n",
       "    </tr>\n",
       "    <tr>\n",
       "      <th>2</th>\n",
       "      <td>langsdorff</td>\n",
       "      <td>[0.0, 0.0, 0.0, 0.0, 0.0, 0.0, 0.0, 0.0, 0.0, ...</td>\n",
       "    </tr>\n",
       "    <tr>\n",
       "      <th>3</th>\n",
       "      <td>langsdorffi</td>\n",
       "      <td>[0.0, 0.0, 0.0, 0.0, 0.0, 0.0, 0.0, 0.0, 0.0, ...</td>\n",
       "    </tr>\n",
       "    <tr>\n",
       "      <th>4</th>\n",
       "      <td>langsyne</td>\n",
       "      <td>[0.0, 0.0, 0.0, 0.0, 0.0, 0.0, 0.0, 0.0, 0.0, ...</td>\n",
       "    </tr>\n",
       "  </tbody>\n",
       "</table>\n",
       "</div>"
      ],
      "text/plain": [
       "          word                                                vec\n",
       "0      langman  [0.0, 0.0, 0.0, 0.0, 0.0, 0.0, 0.0, 0.0, 0.0, ...\n",
       "1      langres  [0.0, 0.0, 0.0, 0.0, 0.0, 0.0, 0.0, 0.0, 0.0, ...\n",
       "2   langsdorff  [0.0, 0.0, 0.0, 0.0, 0.0, 0.0, 0.0, 0.0, 0.0, ...\n",
       "3  langsdorffi  [0.0, 0.0, 0.0, 0.0, 0.0, 0.0, 0.0, 0.0, 0.0, ...\n",
       "4     langsyne  [0.0, 0.0, 0.0, 0.0, 0.0, 0.0, 0.0, 0.0, 0.0, ..."
      ]
     },
     "execution_count": 374,
     "metadata": {},
     "output_type": "execute_result"
    }
   ],
   "source": [
    "#import collocation results (CLMET, period 1850-1920)\n",
    "\n",
    "p1850_vec_df = pandas.read_csv(\"p_1850_1920_colloc.txt\", delimiter = \"\t\",\n",
    "                               header=None, names = ['word','vec'])\n",
    "p1850_vec_df['vec'] = p1850_vec_df['vec'].apply(json.loads)\n",
    "p1850_vec_df.head()"
   ]
  },
  {
   "cell_type": "markdown",
   "metadata": {},
   "source": [
    "## Calculate Semantic Change"
   ]
  },
  {
   "cell_type": "code",
   "execution_count": 379,
   "metadata": {},
   "outputs": [
    {
     "data": {
      "text/plain": [
       "0.04464853447960038"
      ]
     },
     "execution_count": 379,
     "metadata": {},
     "output_type": "execute_result"
    }
   ],
   "source": [
    "#define function for computing semantic change (cosine distance)\n",
    "\n",
    "def compute_semantic_change(word, df1, df2):\n",
    "    vec1 = df1[df1['word']==word]['vec'].sum()\n",
    "    vec2 = df2[df2['word']==word]['vec'].sum()\n",
    "    return scipy.spatial.distance.cosine(vec1,vec2)\n",
    "\n",
    "compute_semantic_change('love', p1710_vec_df, p1780_vec_df)"
   ]
  },
  {
   "cell_type": "code",
   "execution_count": 382,
   "metadata": {},
   "outputs": [
    {
     "name": "stderr",
     "output_type": "stream",
     "text": [
      "/Users/lingdai/anaconda3/lib/python3.6/site-packages/scipy/spatial/distance.py:644: RuntimeWarning: invalid value encountered in double_scalars\n",
      "  dist = 1.0 - uv / np.sqrt(uu * vv)\n"
     ]
    }
   ],
   "source": [
    "semantic_change_p12 = []\n",
    "semantic_change_p23 = []\n",
    "\n",
    "for word in sorted_vocab:\n",
    "    semantic_change_p12.append(compute_semantic_change(word, p1710_vec_df, p1780_vec_df))\n",
    "    semantic_change_p23.append(compute_semantic_change(word, p1780_vec_df, p1850_vec_df))"
   ]
  },
  {
   "cell_type": "code",
   "execution_count": 386,
   "metadata": {},
   "outputs": [
    {
     "data": {
      "text/html": [
       "<div>\n",
       "<style scoped>\n",
       "    .dataframe tbody tr th:only-of-type {\n",
       "        vertical-align: middle;\n",
       "    }\n",
       "\n",
       "    .dataframe tbody tr th {\n",
       "        vertical-align: top;\n",
       "    }\n",
       "\n",
       "    .dataframe thead th {\n",
       "        text-align: right;\n",
       "    }\n",
       "</style>\n",
       "<table border=\"1\" class=\"dataframe\">\n",
       "  <thead>\n",
       "    <tr style=\"text-align: right;\">\n",
       "      <th></th>\n",
       "      <th>word</th>\n",
       "      <th>avg.change</th>\n",
       "      <th>change_12</th>\n",
       "      <th>change_23</th>\n",
       "    </tr>\n",
       "  </thead>\n",
       "  <tbody>\n",
       "    <tr>\n",
       "      <th>13023</th>\n",
       "      <td>one</td>\n",
       "      <td>0.024276</td>\n",
       "      <td>0.028724</td>\n",
       "      <td>0.019829</td>\n",
       "    </tr>\n",
       "    <tr>\n",
       "      <th>780</th>\n",
       "      <td>another</td>\n",
       "      <td>0.025510</td>\n",
       "      <td>0.028527</td>\n",
       "      <td>0.022493</td>\n",
       "    </tr>\n",
       "    <tr>\n",
       "      <th>8891</th>\n",
       "      <td>hast</td>\n",
       "      <td>0.027484</td>\n",
       "      <td>0.018451</td>\n",
       "      <td>0.036517</td>\n",
       "    </tr>\n",
       "    <tr>\n",
       "      <th>20762</th>\n",
       "      <td>well</td>\n",
       "      <td>0.027837</td>\n",
       "      <td>0.031897</td>\n",
       "      <td>0.023777</td>\n",
       "    </tr>\n",
       "    <tr>\n",
       "      <th>4733</th>\n",
       "      <td>day</td>\n",
       "      <td>0.028317</td>\n",
       "      <td>0.036203</td>\n",
       "      <td>0.020430</td>\n",
       "    </tr>\n",
       "  </tbody>\n",
       "</table>\n",
       "</div>"
      ],
      "text/plain": [
       "          word  avg.change  change_12  change_23\n",
       "13023      one    0.024276   0.028724   0.019829\n",
       "780    another    0.025510   0.028527   0.022493\n",
       "8891      hast    0.027484   0.018451   0.036517\n",
       "20762     well    0.027837   0.031897   0.023777\n",
       "4733       day    0.028317   0.036203   0.020430"
      ]
     },
     "execution_count": 386,
     "metadata": {},
     "output_type": "execute_result"
    }
   ],
   "source": [
    "semantic_change_df = pandas.DataFrame({\"word\":sorted_vocab,\n",
    "                                       \"change_12\":semantic_change_p12,\n",
    "                                       \"change_23\":semantic_change_p23})\n",
    "semantic_change_df['avg.change'] = (semantic_change_df['change_12'] +\n",
    "                                    semantic_change_df['change_23'])/2\n",
    "semantic_change_df = semantic_change_df[['word','avg.change','change_12','change_23']]\n",
    "\n",
    "semantic_change_df = semantic_change_df.sort_values(by=['avg.change'],ascending = True)\n",
    "\n",
    "semantic_change_df = semantic_change_df.dropna()\n",
    "semantic_change_df.head()"
   ]
  },
  {
   "cell_type": "markdown",
   "metadata": {},
   "source": [
    "## Calculate Relative Frequency"
   ]
  },
  {
   "cell_type": "code",
   "execution_count": null,
   "metadata": {},
   "outputs": [],
   "source": [
    "def match_count(word):\n",
    "    return total_count_df[total_count_df['word']==word]['count'].sum()\n",
    "\n",
    "semantic_change_df['count'] = semantic_change_df['word'].apply(match_count)"
   ]
  },
  {
   "cell_type": "code",
   "execution_count": null,
   "metadata": {},
   "outputs": [],
   "source": [
    "total_count = total_count_df['count'].sum()\n",
    "semantic_change_df['relative_freq'] = semantic_change_df['count']/total_count\n",
    "semantic_change_df[:50]"
   ]
  },
  {
   "cell_type": "markdown",
   "metadata": {},
   "source": [
    "## Calculate Polysemy"
   ]
  },
  {
   "cell_type": "code",
   "execution_count": null,
   "metadata": {},
   "outputs": [],
   "source": [
    "# define the function for computing polysemy\n",
    "def count_meaning(word):\n",
    "    m = 0\n",
    "    meanings_dict = PyDictionary().meaning(word)\n",
    "    if meanings_dict:\n",
    "        for key in meanings_dict:\n",
    "            m += len(meanings_dict[key])\n",
    "    return m\n",
    "\n",
    "semantic_change_df['polysemy'] = semantic_change_df['word'].apply(count_meaning)"
   ]
  },
  {
   "cell_type": "code",
   "execution_count": 407,
   "metadata": {
    "collapsed": true
   },
   "outputs": [],
   "source": [
    "#write data to local .txt file\n",
    "semantic_change_df.to_csv(\"semantic_change_final.txt\", sep=\",\", header=True, index = False)"
   ]
  },
  {
   "cell_type": "code",
   "execution_count": 107,
   "metadata": {},
   "outputs": [
    {
     "data": {
      "text/html": [
       "<div>\n",
       "<style scoped>\n",
       "    .dataframe tbody tr th:only-of-type {\n",
       "        vertical-align: middle;\n",
       "    }\n",
       "\n",
       "    .dataframe tbody tr th {\n",
       "        vertical-align: top;\n",
       "    }\n",
       "\n",
       "    .dataframe thead th {\n",
       "        text-align: right;\n",
       "    }\n",
       "</style>\n",
       "<table border=\"1\" class=\"dataframe\">\n",
       "  <thead>\n",
       "    <tr style=\"text-align: right;\">\n",
       "      <th></th>\n",
       "      <th>word</th>\n",
       "      <th>avg.change</th>\n",
       "      <th>change_12</th>\n",
       "      <th>change_23</th>\n",
       "      <th>count</th>\n",
       "      <th>relative_freq</th>\n",
       "      <th>polysemy</th>\n",
       "    </tr>\n",
       "  </thead>\n",
       "  <tbody>\n",
       "    <tr>\n",
       "      <th>0</th>\n",
       "      <td>one</td>\n",
       "      <td>0.024276</td>\n",
       "      <td>0.028724</td>\n",
       "      <td>0.019829</td>\n",
       "      <td>107484</td>\n",
       "      <td>0.006797</td>\n",
       "      <td>9</td>\n",
       "    </tr>\n",
       "    <tr>\n",
       "      <th>1</th>\n",
       "      <td>another</td>\n",
       "      <td>0.025510</td>\n",
       "      <td>0.028527</td>\n",
       "      <td>0.022493</td>\n",
       "      <td>23152</td>\n",
       "      <td>0.001464</td>\n",
       "      <td>2</td>\n",
       "    </tr>\n",
       "    <tr>\n",
       "      <th>2</th>\n",
       "      <td>hast</td>\n",
       "      <td>0.027484</td>\n",
       "      <td>0.018451</td>\n",
       "      <td>0.036517</td>\n",
       "      <td>1433</td>\n",
       "      <td>0.000091</td>\n",
       "      <td>0</td>\n",
       "    </tr>\n",
       "    <tr>\n",
       "      <th>3</th>\n",
       "      <td>well</td>\n",
       "      <td>0.027837</td>\n",
       "      <td>0.031897</td>\n",
       "      <td>0.023777</td>\n",
       "      <td>40570</td>\n",
       "      <td>0.002566</td>\n",
       "      <td>24</td>\n",
       "    </tr>\n",
       "    <tr>\n",
       "      <th>4</th>\n",
       "      <td>day</td>\n",
       "      <td>0.028317</td>\n",
       "      <td>0.036203</td>\n",
       "      <td>0.020430</td>\n",
       "      <td>29693</td>\n",
       "      <td>0.001878</td>\n",
       "      <td>10</td>\n",
       "    </tr>\n",
       "  </tbody>\n",
       "</table>\n",
       "</div>"
      ],
      "text/plain": [
       "      word  avg.change  change_12  change_23   count  relative_freq  polysemy\n",
       "0      one    0.024276   0.028724   0.019829  107484       0.006797         9\n",
       "1  another    0.025510   0.028527   0.022493   23152       0.001464         2\n",
       "2     hast    0.027484   0.018451   0.036517    1433       0.000091         0\n",
       "3     well    0.027837   0.031897   0.023777   40570       0.002566        24\n",
       "4      day    0.028317   0.036203   0.020430   29693       0.001878        10"
      ]
     },
     "execution_count": 107,
     "metadata": {},
     "output_type": "execute_result"
    }
   ],
   "source": [
    "semantic_change_df = pd.read_csv(\"semantic_change_final.txt\", sep=\",\", header=0)\n",
    "semantic_change_df.head()"
   ]
  },
  {
   "cell_type": "markdown",
   "metadata": {},
   "source": [
    "## Analysis 1: Semantic Change X Relative Frequency"
   ]
  },
  {
   "cell_type": "code",
   "execution_count": 410,
   "metadata": {},
   "outputs": [
    {
     "data": {
      "text/html": [
       "<table class=\"simpletable\">\n",
       "<caption>OLS Regression Results</caption>\n",
       "<tr>\n",
       "  <th>Dep. Variable:</th>       <td>avg.change</td>    <th>  R-squared:         </th> <td>   0.145</td>\n",
       "</tr>\n",
       "<tr>\n",
       "  <th>Model:</th>                   <td>OLS</td>       <th>  Adj. R-squared:    </th> <td>   0.145</td>\n",
       "</tr>\n",
       "<tr>\n",
       "  <th>Method:</th>             <td>Least Squares</td>  <th>  F-statistic:       </th> <td>   3590.</td>\n",
       "</tr>\n",
       "<tr>\n",
       "  <th>Date:</th>             <td>Tue, 29 May 2018</td> <th>  Prob (F-statistic):</th>  <td>  0.00</td> \n",
       "</tr>\n",
       "<tr>\n",
       "  <th>Time:</th>                 <td>00:38:05</td>     <th>  Log-Likelihood:    </th> <td>  1741.5</td>\n",
       "</tr>\n",
       "<tr>\n",
       "  <th>No. Observations:</th>      <td> 21244</td>      <th>  AIC:               </th> <td>  -3479.</td>\n",
       "</tr>\n",
       "<tr>\n",
       "  <th>Df Residuals:</th>          <td> 21242</td>      <th>  BIC:               </th> <td>  -3463.</td>\n",
       "</tr>\n",
       "<tr>\n",
       "  <th>Df Model:</th>              <td>     1</td>      <th>                     </th>     <td> </td>   \n",
       "</tr>\n",
       "<tr>\n",
       "  <th>Covariance Type:</th>      <td>nonrobust</td>    <th>                     </th>     <td> </td>   \n",
       "</tr>\n",
       "</table>\n",
       "<table class=\"simpletable\">\n",
       "<tr>\n",
       "        <td></td>           <th>coef</th>     <th>std err</th>      <th>t</th>      <th>P>|t|</th>  <th>[0.025</th>    <th>0.975]</th>  \n",
       "</tr>\n",
       "<tr>\n",
       "  <th>const</th>         <td>    0.5374</td> <td>    0.002</td> <td>  339.611</td> <td> 0.000</td> <td>    0.534</td> <td>    0.540</td>\n",
       "</tr>\n",
       "<tr>\n",
       "  <th>relative_freq</th> <td> -555.1462</td> <td>    9.265</td> <td>  -59.921</td> <td> 0.000</td> <td> -573.306</td> <td> -536.987</td>\n",
       "</tr>\n",
       "</table>\n",
       "<table class=\"simpletable\">\n",
       "<tr>\n",
       "  <th>Omnibus:</th>       <td>2242.713</td> <th>  Durbin-Watson:     </th> <td>   0.091</td> \n",
       "</tr>\n",
       "<tr>\n",
       "  <th>Prob(Omnibus):</th>  <td> 0.000</td>  <th>  Jarque-Bera (JB):  </th> <td>12378.228</td>\n",
       "</tr>\n",
       "<tr>\n",
       "  <th>Skew:</th>           <td> 0.362</td>  <th>  Prob(JB):          </th> <td>    0.00</td> \n",
       "</tr>\n",
       "<tr>\n",
       "  <th>Kurtosis:</th>       <td> 6.669</td>  <th>  Cond. No.          </th> <td>6.06e+03</td> \n",
       "</tr>\n",
       "</table>"
      ],
      "text/plain": [
       "<class 'statsmodels.iolib.summary.Summary'>\n",
       "\"\"\"\n",
       "                            OLS Regression Results                            \n",
       "==============================================================================\n",
       "Dep. Variable:             avg.change   R-squared:                       0.145\n",
       "Model:                            OLS   Adj. R-squared:                  0.145\n",
       "Method:                 Least Squares   F-statistic:                     3590.\n",
       "Date:                Tue, 29 May 2018   Prob (F-statistic):               0.00\n",
       "Time:                        00:38:05   Log-Likelihood:                 1741.5\n",
       "No. Observations:               21244   AIC:                            -3479.\n",
       "Df Residuals:                   21242   BIC:                            -3463.\n",
       "Df Model:                           1                                         \n",
       "Covariance Type:            nonrobust                                         \n",
       "=================================================================================\n",
       "                    coef    std err          t      P>|t|      [0.025      0.975]\n",
       "---------------------------------------------------------------------------------\n",
       "const             0.5374      0.002    339.611      0.000       0.534       0.540\n",
       "relative_freq  -555.1462      9.265    -59.921      0.000    -573.306    -536.987\n",
       "==============================================================================\n",
       "Omnibus:                     2242.713   Durbin-Watson:                   0.091\n",
       "Prob(Omnibus):                  0.000   Jarque-Bera (JB):            12378.228\n",
       "Skew:                           0.362   Prob(JB):                         0.00\n",
       "Kurtosis:                       6.669   Cond. No.                     6.06e+03\n",
       "==============================================================================\n",
       "\n",
       "Warnings:\n",
       "[1] Standard Errors assume that the covariance matrix of the errors is correctly specified.\n",
       "[2] The condition number is large, 6.06e+03. This might indicate that there are\n",
       "strong multicollinearity or other numerical problems.\n",
       "\"\"\""
      ]
     },
     "execution_count": 410,
     "metadata": {},
     "output_type": "execute_result"
    }
   ],
   "source": [
    "import statsmodels.api as sm # import statsmodels \n",
    "\n",
    "X = semantic_change_df[\"relative_freq\"] \n",
    "y = semantic_change_df[\"avg.change\"]\n",
    "X = sm.add_constant(X)\n",
    "\n",
    "model = sm.OLS(y, X).fit() ## sm.OLS(output, input)\n",
    "\n",
    "# Print out the statistics\n",
    "model.summary()"
   ]
  },
  {
   "cell_type": "code",
   "execution_count": 11,
   "metadata": {},
   "outputs": [
    {
     "data": {
      "text/plain": [
       "<matplotlib.collections.PathCollection at 0x10f57e7f0>"
      ]
     },
     "execution_count": 11,
     "metadata": {},
     "output_type": "execute_result"
    },
    {
     "data": {
      "image/png": "[encoded data removed]",
      "text/plain": [
       "<Figure size 432x288 with 1 Axes>"
      ]
     },
     "metadata": {},
     "output_type": "display_data"
    }
   ],
   "source": [
    "# Scatterplot\n",
    "plt.xlabel(\"relative frequency\")\n",
    "plt.ylabel(\"semantic change\")\n",
    "\n",
    "plt.scatter(semantic_change_df[\"relative_freq\"].apply(np.log),\n",
    "            semantic_change_df[\"avg.change\"]) "
   ]
  },
  {
   "cell_type": "markdown",
   "metadata": {},
   "source": [
    "## Analysis 2: Semantic Change X Polysemy"
   ]
  },
  {
   "cell_type": "code",
   "execution_count": 5,
   "metadata": {},
   "outputs": [
    {
     "data": {
      "text/html": [
       "<table class=\"simpletable\">\n",
       "<caption>OLS Regression Results</caption>\n",
       "<tr>\n",
       "  <th>Dep. Variable:</th>       <td>avg.change</td>    <th>  R-squared:         </th> <td>   0.118</td>\n",
       "</tr>\n",
       "<tr>\n",
       "  <th>Model:</th>                   <td>OLS</td>       <th>  Adj. R-squared:    </th> <td>   0.118</td>\n",
       "</tr>\n",
       "<tr>\n",
       "  <th>Method:</th>             <td>Least Squares</td>  <th>  F-statistic:       </th> <td>   2712.</td>\n",
       "</tr>\n",
       "<tr>\n",
       "  <th>Date:</th>             <td>Wed, 30 May 2018</td> <th>  Prob (F-statistic):</th>  <td>  0.00</td> \n",
       "</tr>\n",
       "<tr>\n",
       "  <th>Time:</th>                 <td>09:17:04</td>     <th>  Log-Likelihood:    </th> <td>  1523.3</td>\n",
       "</tr>\n",
       "<tr>\n",
       "  <th>No. Observations:</th>      <td> 20274</td>      <th>  AIC:               </th> <td>  -3043.</td>\n",
       "</tr>\n",
       "<tr>\n",
       "  <th>Df Residuals:</th>          <td> 20272</td>      <th>  BIC:               </th> <td>  -3027.</td>\n",
       "</tr>\n",
       "<tr>\n",
       "  <th>Df Model:</th>              <td>     1</td>      <th>                     </th>     <td> </td>   \n",
       "</tr>\n",
       "<tr>\n",
       "  <th>Covariance Type:</th>      <td>nonrobust</td>    <th>                     </th>     <td> </td>   \n",
       "</tr>\n",
       "</table>\n",
       "<table class=\"simpletable\">\n",
       "<tr>\n",
       "      <td></td>        <th>coef</th>     <th>std err</th>      <th>t</th>      <th>P>|t|</th>  <th>[0.025</th>    <th>0.975]</th>  \n",
       "</tr>\n",
       "<tr>\n",
       "  <th>const</th>    <td>    0.5800</td> <td>    0.002</td> <td>  272.431</td> <td> 0.000</td> <td>    0.576</td> <td>    0.584</td>\n",
       "</tr>\n",
       "<tr>\n",
       "  <th>polysemy</th> <td>   -0.0168</td> <td>    0.000</td> <td>  -52.080</td> <td> 0.000</td> <td>   -0.017</td> <td>   -0.016</td>\n",
       "</tr>\n",
       "</table>\n",
       "<table class=\"simpletable\">\n",
       "<tr>\n",
       "  <th>Omnibus:</th>       <td>2751.122</td> <th>  Durbin-Watson:     </th> <td>   0.226</td> \n",
       "</tr>\n",
       "<tr>\n",
       "  <th>Prob(Omnibus):</th>  <td> 0.000</td>  <th>  Jarque-Bera (JB):  </th> <td> 770.398</td> \n",
       "</tr>\n",
       "<tr>\n",
       "  <th>Skew:</th>           <td>-0.173</td>  <th>  Prob(JB):          </th> <td>5.13e-168</td>\n",
       "</tr>\n",
       "<tr>\n",
       "  <th>Kurtosis:</th>       <td> 2.110</td>  <th>  Cond. No.          </th> <td>    8.98</td> \n",
       "</tr>\n",
       "</table>"
      ],
      "text/plain": [
       "<class 'statsmodels.iolib.summary.Summary'>\n",
       "\"\"\"\n",
       "                            OLS Regression Results                            \n",
       "==============================================================================\n",
       "Dep. Variable:             avg.change   R-squared:                       0.118\n",
       "Model:                            OLS   Adj. R-squared:                  0.118\n",
       "Method:                 Least Squares   F-statistic:                     2712.\n",
       "Date:                Wed, 30 May 2018   Prob (F-statistic):               0.00\n",
       "Time:                        09:17:04   Log-Likelihood:                 1523.3\n",
       "No. Observations:               20274   AIC:                            -3043.\n",
       "Df Residuals:                   20272   BIC:                            -3027.\n",
       "Df Model:                           1                                         \n",
       "Covariance Type:            nonrobust                                         \n",
       "==============================================================================\n",
       "                 coef    std err          t      P>|t|      [0.025      0.975]\n",
       "------------------------------------------------------------------------------\n",
       "const          0.5800      0.002    272.431      0.000       0.576       0.584\n",
       "polysemy      -0.0168      0.000    -52.080      0.000      -0.017      -0.016\n",
       "==============================================================================\n",
       "Omnibus:                     2751.122   Durbin-Watson:                   0.226\n",
       "Prob(Omnibus):                  0.000   Jarque-Bera (JB):              770.398\n",
       "Skew:                          -0.173   Prob(JB):                    5.13e-168\n",
       "Kurtosis:                       2.110   Cond. No.                         8.98\n",
       "==============================================================================\n",
       "\n",
       "Warnings:\n",
       "[1] Standard Errors assume that the covariance matrix of the errors is correctly specified.\n",
       "\"\"\""
      ]
     },
     "execution_count": 5,
     "metadata": {},
     "output_type": "execute_result"
    }
   ],
   "source": [
    "import statsmodels.api as sm # import statsmodels \n",
    "\n",
    "X = semantic_sub_df[\"polysemy\"] \n",
    "y = semantic_sub_df[\"avg.change\"]\n",
    "X = sm.add_constant(X)\n",
    "\n",
    "model = sm.OLS(y, X).fit() ## sm.OLS(output, input)\n",
    "predictions = model.predict(X)\n",
    "\n",
    "# Print out the statistics\n",
    "model.summary()"
   ]
  },
  {
   "cell_type": "code",
   "execution_count": 18,
   "metadata": {},
   "outputs": [
    {
     "data": {
      "text/plain": [
       "<matplotlib.collections.PathCollection at 0x103ee04a8>"
      ]
     },
     "execution_count": 18,
     "metadata": {},
     "output_type": "execute_result"
    },
    {
     "data": {
      "image/png": "[encoded data removed]",
      "text/plain": [
       "<Figure size 432x288 with 1 Axes>"
      ]
     },
     "metadata": {},
     "output_type": "display_data"
    }
   ],
   "source": [
    "#Scatterplot\n",
    "plt.xlabel(\"polysemy\")\n",
    "plt.ylabel(\"semantic change\")\n",
    "\n",
    "plt.scatter(semantic_sub_df[\"polysemy\"],\n",
    "            semantic_sub_df[\"avg.change\"])"
   ]
  },
  {
   "cell_type": "markdown",
   "metadata": {},
   "source": [
    "# Gutenberg Project"
   ]
  },
  {
   "cell_type": "markdown",
   "metadata": {},
   "source": [
    "## Data Pre-Processing"
   ]
  },
  {
   "cell_type": "code",
   "execution_count": 19,
   "metadata": {},
   "outputs": [
    {
     "data": {
      "text/html": [
       "<div>\n",
       "<style scoped>\n",
       "    .dataframe tbody tr th:only-of-type {\n",
       "        vertical-align: middle;\n",
       "    }\n",
       "\n",
       "    .dataframe tbody tr th {\n",
       "        vertical-align: top;\n",
       "    }\n",
       "\n",
       "    .dataframe thead th {\n",
       "        text-align: right;\n",
       "    }\n",
       "</style>\n",
       "<table border=\"1\" class=\"dataframe\">\n",
       "  <thead>\n",
       "    <tr style=\"text-align: right;\">\n",
       "      <th></th>\n",
       "      <th>author</th>\n",
       "      <th>language</th>\n",
       "      <th>release_date</th>\n",
       "      <th>text</th>\n",
       "      <th>title</th>\n",
       "    </tr>\n",
       "  </thead>\n",
       "  <tbody>\n",
       "    <tr>\n",
       "      <th>0</th>\n",
       "      <td>Various</td>\n",
       "      <td>English</td>\n",
       "      <td>September, 2005 [EBook #8951]</td>\n",
       "      <td>\\n\\n\\n\\n\\nProduced by Don Kretz, Juliet Suther...</td>\n",
       "      <td>Scientific American, Vol. 17, No. 26 December ...</td>\n",
       "    </tr>\n",
       "    <tr>\n",
       "      <th>1</th>\n",
       "      <td>Jessie Eldridge Southwick</td>\n",
       "      <td>English</td>\n",
       "      <td>April, 2005 [EBook #7804]</td>\n",
       "      <td>\\n\\n\\n\\n\\nProduced by Charles Aldarondo, Tiffa...</td>\n",
       "      <td>Expressive Voice Culture</td>\n",
       "    </tr>\n",
       "    <tr>\n",
       "      <th>2</th>\n",
       "      <td>Nathaniel Hawthorne</td>\n",
       "      <td>English</td>\n",
       "      <td>Nov, 2005  [EBook #9237]</td>\n",
       "      <td>\\n\\n\\n\\n\\nThis eBook was produced by David Wid...</td>\n",
       "      <td>A Bell's Biography</td>\n",
       "    </tr>\n",
       "    <tr>\n",
       "      <th>3</th>\n",
       "      <td>Maria Edgeworth</td>\n",
       "      <td>English</td>\n",
       "      <td>December, 2005 [EBook #9414]</td>\n",
       "      <td>\\n\\n\\n\\n\\nProduced by Jonathan Ingram, Tapio R...</td>\n",
       "      <td>Tales and Novels, Vol. V</td>\n",
       "    </tr>\n",
       "    <tr>\n",
       "      <th>4</th>\n",
       "      <td>R F Weymouth</td>\n",
       "      <td>English</td>\n",
       "      <td>September, 2005  [EBook #8839]</td>\n",
       "      <td>\\n\\n\\nProduced by Martin.Ward@durham.ac.uk\\n\\n...</td>\n",
       "      <td>Weymouth New Testament in Modern Speech, Colos...</td>\n",
       "    </tr>\n",
       "  </tbody>\n",
       "</table>\n",
       "</div>"
      ],
      "text/plain": [
       "                      author language                    release_date  \\\n",
       "0                    Various  English   September, 2005 [EBook #8951]   \n",
       "1  Jessie Eldridge Southwick  English       April, 2005 [EBook #7804]   \n",
       "2        Nathaniel Hawthorne  English        Nov, 2005  [EBook #9237]   \n",
       "3            Maria Edgeworth  English    December, 2005 [EBook #9414]   \n",
       "4               R F Weymouth  English  September, 2005  [EBook #8839]   \n",
       "\n",
       "                                                text  \\\n",
       "0  \\n\\n\\n\\n\\nProduced by Don Kretz, Juliet Suther...   \n",
       "1  \\n\\n\\n\\n\\nProduced by Charles Aldarondo, Tiffa...   \n",
       "2  \\n\\n\\n\\n\\nThis eBook was produced by David Wid...   \n",
       "3  \\n\\n\\n\\n\\nProduced by Jonathan Ingram, Tapio R...   \n",
       "4  \\n\\n\\nProduced by Martin.Ward@durham.ac.uk\\n\\n...   \n",
       "\n",
       "                                               title  \n",
       "0  Scientific American, Vol. 17, No. 26 December ...  \n",
       "1                           Expressive Voice Culture  \n",
       "2                                 A Bell's Biography  \n",
       "3                           Tales and Novels, Vol. V  \n",
       "4  Weymouth New Testament in Modern Speech, Colos...  "
      ]
     },
     "execution_count": 19,
     "metadata": {},
     "output_type": "execute_result"
    }
   ],
   "source": [
    "import bs4\n",
    "\n",
    "dataDir = '/Users/lingdai/Downloads/Gutenberg Project/'\n",
    "\n",
    "GP_Dict = {\"title\":[],\n",
    "           \"author\":[],\n",
    "           \"release_date\":[],\n",
    "           \"language\":[],\n",
    "           \"text\":[]}\n",
    "\n",
    "for Doc in ((dataDir + file) for file in os.listdir(dataDir) if file.endswith(\".txt\")):\n",
    "    file = open(Doc, \"r\", encoding = \"ISO-8859-1\")\n",
    "    DocText = file.read()\n",
    "    sep_pos = DocText.find(\"*** START OF THE PROJECT GUTENBERG EBOOK\")\n",
    "    \n",
    "    if sep_pos > 0:\n",
    "        pre_text = DocText[:sep_pos]\n",
    "        title = pre_text[pre_text.find(\"Title: \")+len(\"Title: \"):].split(\"\\n\")[0]\n",
    "        author = pre_text[pre_text.find(\"Author: \")+len(\"Author: \"):].split(\"\\n\")[0]\n",
    "        release_date = pre_text[pre_text.find(\"Release Date: \")+len(\"Release Date: \"):].split(\"\\n\")[0]\n",
    "        language = pre_text[pre_text.find(\"Language: \")+len(\"Language: \"):].split(\"\\n\")[0]\n",
    "        \n",
    "        if language == 'English':\n",
    "            main_text = DocText[sep_pos+1:][DocText[sep_pos+1:].find(\"***\")+3:]\n",
    "            GP_Dict['title'].append(title)\n",
    "            GP_Dict['author'].append(author)\n",
    "            GP_Dict['release_date'].append(release_date)\n",
    "            GP_Dict['language'].append(language)\n",
    "            GP_Dict['text'].append(main_text)\n",
    "\n",
    "GPDF = pandas.DataFrame(GP_Dict)\n",
    "\n",
    "GPDF.head()"
   ]
  },
  {
   "cell_type": "code",
   "execution_count": 21,
   "metadata": {},
   "outputs": [
    {
     "data": {
      "text/html": [
       "<div>\n",
       "<style scoped>\n",
       "    .dataframe tbody tr th:only-of-type {\n",
       "        vertical-align: middle;\n",
       "    }\n",
       "\n",
       "    .dataframe tbody tr th {\n",
       "        vertical-align: top;\n",
       "    }\n",
       "\n",
       "    .dataframe thead th {\n",
       "        text-align: right;\n",
       "    }\n",
       "</style>\n",
       "<table border=\"1\" class=\"dataframe\">\n",
       "  <thead>\n",
       "    <tr style=\"text-align: right;\">\n",
       "      <th></th>\n",
       "      <th>author</th>\n",
       "      <th>language</th>\n",
       "      <th>release_date</th>\n",
       "      <th>text</th>\n",
       "      <th>title</th>\n",
       "      <th>tokenized_sents</th>\n",
       "      <th>normalized_sents</th>\n",
       "    </tr>\n",
       "  </thead>\n",
       "  <tbody>\n",
       "    <tr>\n",
       "      <th>0</th>\n",
       "      <td>Various</td>\n",
       "      <td>English</td>\n",
       "      <td>September, 2005 [EBook #8951]</td>\n",
       "      <td>\\n\\n\\n\\n\\nProduced by Don Kretz, Juliet Suther...</td>\n",
       "      <td>Scientific American, Vol. 17, No. 26 December ...</td>\n",
       "      <td>[[Produced, by, Don, Kretz, ,, Juliet, Sutherl...</td>\n",
       "      <td>[[produced, kretz, juliet, sutherland, distrib...</td>\n",
       "    </tr>\n",
       "    <tr>\n",
       "      <th>1</th>\n",
       "      <td>Jessie Eldridge Southwick</td>\n",
       "      <td>English</td>\n",
       "      <td>April, 2005 [EBook #7804]</td>\n",
       "      <td>\\n\\n\\n\\n\\nProduced by Charles Aldarondo, Tiffa...</td>\n",
       "      <td>Expressive Voice Culture</td>\n",
       "      <td>[[Produced, by, Charles, Aldarondo, ,, Tiffany...</td>\n",
       "      <td>[[produced, charles, aldarondo, tiffany, vergo...</td>\n",
       "    </tr>\n",
       "    <tr>\n",
       "      <th>2</th>\n",
       "      <td>Nathaniel Hawthorne</td>\n",
       "      <td>English</td>\n",
       "      <td>Nov, 2005  [EBook #9237]</td>\n",
       "      <td>\\n\\n\\n\\n\\nThis eBook was produced by David Wid...</td>\n",
       "      <td>A Bell's Biography</td>\n",
       "      <td>[[This, eBook, was, produced, by, David, Widge...</td>\n",
       "      <td>[[ebook, produced, david, widger, widger, tale...</td>\n",
       "    </tr>\n",
       "    <tr>\n",
       "      <th>3</th>\n",
       "      <td>Maria Edgeworth</td>\n",
       "      <td>English</td>\n",
       "      <td>December, 2005 [EBook #9414]</td>\n",
       "      <td>\\n\\n\\n\\n\\nProduced by Jonathan Ingram, Tapio R...</td>\n",
       "      <td>Tales and Novels, Vol. V</td>\n",
       "      <td>[[Produced, by, Jonathan, Ingram, ,, Tapio, Ri...</td>\n",
       "      <td>[[produced, jonathan, ingram, tapio, riikonen,...</td>\n",
       "    </tr>\n",
       "    <tr>\n",
       "      <th>4</th>\n",
       "      <td>R F Weymouth</td>\n",
       "      <td>English</td>\n",
       "      <td>September, 2005  [EBook #8839]</td>\n",
       "      <td>\\n\\n\\nProduced by Martin.Ward@durham.ac.uk\\n\\n...</td>\n",
       "      <td>Weymouth New Testament in Modern Speech, Colos...</td>\n",
       "      <td>[[Produced, by, Martin.Ward, @, durham.ac.uk, ...</td>\n",
       "      <td>[[produced, book, colossians, paul, apostle, c...</td>\n",
       "    </tr>\n",
       "  </tbody>\n",
       "</table>\n",
       "</div>"
      ],
      "text/plain": [
       "                      author language                    release_date  \\\n",
       "0                    Various  English   September, 2005 [EBook #8951]   \n",
       "1  Jessie Eldridge Southwick  English       April, 2005 [EBook #7804]   \n",
       "2        Nathaniel Hawthorne  English        Nov, 2005  [EBook #9237]   \n",
       "3            Maria Edgeworth  English    December, 2005 [EBook #9414]   \n",
       "4               R F Weymouth  English  September, 2005  [EBook #8839]   \n",
       "\n",
       "                                                text  \\\n",
       "0  \\n\\n\\n\\n\\nProduced by Don Kretz, Juliet Suther...   \n",
       "1  \\n\\n\\n\\n\\nProduced by Charles Aldarondo, Tiffa...   \n",
       "2  \\n\\n\\n\\n\\nThis eBook was produced by David Wid...   \n",
       "3  \\n\\n\\n\\n\\nProduced by Jonathan Ingram, Tapio R...   \n",
       "4  \\n\\n\\nProduced by Martin.Ward@durham.ac.uk\\n\\n...   \n",
       "\n",
       "                                               title  \\\n",
       "0  Scientific American, Vol. 17, No. 26 December ...   \n",
       "1                           Expressive Voice Culture   \n",
       "2                                 A Bell's Biography   \n",
       "3                           Tales and Novels, Vol. V   \n",
       "4  Weymouth New Testament in Modern Speech, Colos...   \n",
       "\n",
       "                                     tokenized_sents  \\\n",
       "0  [[Produced, by, Don, Kretz, ,, Juliet, Sutherl...   \n",
       "1  [[Produced, by, Charles, Aldarondo, ,, Tiffany...   \n",
       "2  [[This, eBook, was, produced, by, David, Widge...   \n",
       "3  [[Produced, by, Jonathan, Ingram, ,, Tapio, Ri...   \n",
       "4  [[Produced, by, Martin.Ward, @, durham.ac.uk, ...   \n",
       "\n",
       "                                    normalized_sents  \n",
       "0  [[produced, kretz, juliet, sutherland, distrib...  \n",
       "1  [[produced, charles, aldarondo, tiffany, vergo...  \n",
       "2  [[ebook, produced, david, widger, widger, tale...  \n",
       "3  [[produced, jonathan, ingram, tapio, riikonen,...  \n",
       "4  [[produced, book, colossians, paul, apostle, c...  "
      ]
     },
     "execution_count": 21,
     "metadata": {},
     "output_type": "execute_result"
    }
   ],
   "source": [
    "#tokenization and removal of stopwords\n",
    "GPDF['tokenized_sents'] = GPDF['text'].apply(lambda x: [nltk.word_tokenize(s) for s in nltk.sent_tokenize(x)])\n",
    "GPDF['normalized_sents'] = GPDF['tokenized_sents'].apply(lambda x: [lucem_illud.normalizeTokens(s, stopwordLst = lucem_illud.stop_words_basic) for s in x])\n",
    "GPDF.head()"
   ]
  },
  {
   "cell_type": "code",
   "execution_count": 71,
   "metadata": {},
   "outputs": [
    {
     "data": {
      "text/plain": [
       "'2005'"
      ]
     },
     "execution_count": 71,
     "metadata": {},
     "output_type": "execute_result"
    }
   ],
   "source": [
    "#match year for Gutenberg project documents\n",
    "import re\n",
    "\n",
    "def date_to_year(date):\n",
    "    return re.findall(r\"\\b\\d{4}\\b\", date)[0]\n",
    "\n",
    "date_to_year('September, 2005 [EBook #8839]')"
   ]
  },
  {
   "cell_type": "code",
   "execution_count": 76,
   "metadata": {},
   "outputs": [
    {
     "data": {
      "text/html": [
       "<div>\n",
       "<style scoped>\n",
       "    .dataframe tbody tr th:only-of-type {\n",
       "        vertical-align: middle;\n",
       "    }\n",
       "\n",
       "    .dataframe tbody tr th {\n",
       "        vertical-align: top;\n",
       "    }\n",
       "\n",
       "    .dataframe thead th {\n",
       "        text-align: right;\n",
       "    }\n",
       "</style>\n",
       "<table border=\"1\" class=\"dataframe\">\n",
       "  <thead>\n",
       "    <tr style=\"text-align: right;\">\n",
       "      <th></th>\n",
       "      <th>author</th>\n",
       "      <th>language</th>\n",
       "      <th>release_date</th>\n",
       "      <th>text</th>\n",
       "      <th>title</th>\n",
       "      <th>tokenized_sents</th>\n",
       "      <th>normalized_sents</th>\n",
       "      <th>year</th>\n",
       "    </tr>\n",
       "  </thead>\n",
       "  <tbody>\n",
       "    <tr>\n",
       "      <th>0</th>\n",
       "      <td>Various</td>\n",
       "      <td>English</td>\n",
       "      <td>September, 2005 [EBook #8951]</td>\n",
       "      <td>\\n\\n\\n\\n\\nProduced by Don Kretz, Juliet Suther...</td>\n",
       "      <td>Scientific American, Vol. 17, No. 26 December ...</td>\n",
       "      <td>[[Produced, by, Don, Kretz, ,, Juliet, Sutherl...</td>\n",
       "      <td>[[produced, kretz, juliet, sutherland, distrib...</td>\n",
       "      <td>1867</td>\n",
       "    </tr>\n",
       "    <tr>\n",
       "      <th>1</th>\n",
       "      <td>Jessie Eldridge Southwick</td>\n",
       "      <td>English</td>\n",
       "      <td>April, 2005 [EBook #7804]</td>\n",
       "      <td>\\n\\n\\n\\n\\nProduced by Charles Aldarondo, Tiffa...</td>\n",
       "      <td>Expressive Voice Culture</td>\n",
       "      <td>[[Produced, by, Charles, Aldarondo, ,, Tiffany...</td>\n",
       "      <td>[[produced, charles, aldarondo, tiffany, vergo...</td>\n",
       "      <td>2002</td>\n",
       "    </tr>\n",
       "    <tr>\n",
       "      <th>2</th>\n",
       "      <td>Nathaniel Hawthorne</td>\n",
       "      <td>English</td>\n",
       "      <td>Nov, 2005  [EBook #9237]</td>\n",
       "      <td>\\n\\n\\n\\n\\nThis eBook was produced by David Wid...</td>\n",
       "      <td>A Bell's Biography</td>\n",
       "      <td>[[This, eBook, was, produced, by, David, Widge...</td>\n",
       "      <td>[[ebook, produced, david, widger, widger, tale...</td>\n",
       "      <td>2002</td>\n",
       "    </tr>\n",
       "    <tr>\n",
       "      <th>3</th>\n",
       "      <td>Maria Edgeworth</td>\n",
       "      <td>English</td>\n",
       "      <td>December, 2005 [EBook #9414]</td>\n",
       "      <td>\\n\\n\\n\\n\\nProduced by Jonathan Ingram, Tapio R...</td>\n",
       "      <td>Tales and Novels, Vol. V</td>\n",
       "      <td>[[Produced, by, Jonathan, Ingram, ,, Tapio, Ri...</td>\n",
       "      <td>[[produced, jonathan, ingram, tapio, riikonen,...</td>\n",
       "      <td>1857</td>\n",
       "    </tr>\n",
       "    <tr>\n",
       "      <th>4</th>\n",
       "      <td>R F Weymouth</td>\n",
       "      <td>English</td>\n",
       "      <td>September, 2005  [EBook #8839]</td>\n",
       "      <td>\\n\\n\\nProduced by Martin.Ward@durham.ac.uk\\n\\n...</td>\n",
       "      <td>Weymouth New Testament in Modern Speech, Colos...</td>\n",
       "      <td>[[Produced, by, Martin.Ward, @, durham.ac.uk, ...</td>\n",
       "      <td>[[produced, book, colossians, paul, apostle, c...</td>\n",
       "      <td>2002</td>\n",
       "    </tr>\n",
       "  </tbody>\n",
       "</table>\n",
       "</div>"
      ],
      "text/plain": [
       "                      author language                    release_date  \\\n",
       "0                    Various  English   September, 2005 [EBook #8951]   \n",
       "1  Jessie Eldridge Southwick  English       April, 2005 [EBook #7804]   \n",
       "2        Nathaniel Hawthorne  English        Nov, 2005  [EBook #9237]   \n",
       "3            Maria Edgeworth  English    December, 2005 [EBook #9414]   \n",
       "4               R F Weymouth  English  September, 2005  [EBook #8839]   \n",
       "\n",
       "                                                text  \\\n",
       "0  \\n\\n\\n\\n\\nProduced by Don Kretz, Juliet Suther...   \n",
       "1  \\n\\n\\n\\n\\nProduced by Charles Aldarondo, Tiffa...   \n",
       "2  \\n\\n\\n\\n\\nThis eBook was produced by David Wid...   \n",
       "3  \\n\\n\\n\\n\\nProduced by Jonathan Ingram, Tapio R...   \n",
       "4  \\n\\n\\nProduced by Martin.Ward@durham.ac.uk\\n\\n...   \n",
       "\n",
       "                                               title  \\\n",
       "0  Scientific American, Vol. 17, No. 26 December ...   \n",
       "1                           Expressive Voice Culture   \n",
       "2                                 A Bell's Biography   \n",
       "3                           Tales and Novels, Vol. V   \n",
       "4  Weymouth New Testament in Modern Speech, Colos...   \n",
       "\n",
       "                                     tokenized_sents  \\\n",
       "0  [[Produced, by, Don, Kretz, ,, Juliet, Sutherl...   \n",
       "1  [[Produced, by, Charles, Aldarondo, ,, Tiffany...   \n",
       "2  [[This, eBook, was, produced, by, David, Widge...   \n",
       "3  [[Produced, by, Jonathan, Ingram, ,, Tapio, Ri...   \n",
       "4  [[Produced, by, Martin.Ward, @, durham.ac.uk, ...   \n",
       "\n",
       "                                    normalized_sents  year  \n",
       "0  [[produced, kretz, juliet, sutherland, distrib...  1867  \n",
       "1  [[produced, charles, aldarondo, tiffany, vergo...  2002  \n",
       "2  [[ebook, produced, david, widger, widger, tale...  2002  \n",
       "3  [[produced, jonathan, ingram, tapio, riikonen,...  1857  \n",
       "4  [[produced, book, colossians, paul, apostle, c...  2002  "
      ]
     },
     "execution_count": 76,
     "metadata": {},
     "output_type": "execute_result"
    }
   ],
   "source": [
    "GPDF['year'] = GPDF['text'].apply(date_to_year)\n",
    "GPDF.head()"
   ]
  },
  {
   "cell_type": "code",
   "execution_count": 82,
   "metadata": {},
   "outputs": [
    {
     "data": {
      "text/html": [
       "<div>\n",
       "<style scoped>\n",
       "    .dataframe tbody tr th:only-of-type {\n",
       "        vertical-align: middle;\n",
       "    }\n",
       "\n",
       "    .dataframe tbody tr th {\n",
       "        vertical-align: top;\n",
       "    }\n",
       "\n",
       "    .dataframe thead th {\n",
       "        text-align: right;\n",
       "    }\n",
       "</style>\n",
       "<table border=\"1\" class=\"dataframe\">\n",
       "  <thead>\n",
       "    <tr style=\"text-align: right;\">\n",
       "      <th></th>\n",
       "      <th>author</th>\n",
       "      <th>language</th>\n",
       "      <th>release_date</th>\n",
       "      <th>text</th>\n",
       "      <th>title</th>\n",
       "      <th>tokenized_sents</th>\n",
       "      <th>normalized_sents</th>\n",
       "      <th>year</th>\n",
       "    </tr>\n",
       "  </thead>\n",
       "  <tbody>\n",
       "    <tr>\n",
       "      <th>0</th>\n",
       "      <td>Various</td>\n",
       "      <td>English</td>\n",
       "      <td>September, 2005 [EBook #8951]</td>\n",
       "      <td>\\n\\n\\n\\n\\nProduced by Don Kretz, Juliet Suther...</td>\n",
       "      <td>Scientific American, Vol. 17, No. 26 December ...</td>\n",
       "      <td>[[Produced, by, Don, Kretz, ,, Juliet, Sutherl...</td>\n",
       "      <td>[[produced, kretz, juliet, sutherland, distrib...</td>\n",
       "      <td>1867</td>\n",
       "    </tr>\n",
       "    <tr>\n",
       "      <th>3</th>\n",
       "      <td>Maria Edgeworth</td>\n",
       "      <td>English</td>\n",
       "      <td>December, 2005 [EBook #9414]</td>\n",
       "      <td>\\n\\n\\n\\n\\nProduced by Jonathan Ingram, Tapio R...</td>\n",
       "      <td>Tales and Novels, Vol. V</td>\n",
       "      <td>[[Produced, by, Jonathan, Ingram, ,, Tapio, Ri...</td>\n",
       "      <td>[[produced, jonathan, ingram, tapio, riikonen,...</td>\n",
       "      <td>1857</td>\n",
       "    </tr>\n",
       "    <tr>\n",
       "      <th>6</th>\n",
       "      <td>Thomas A. Janvier</td>\n",
       "      <td>English</td>\n",
       "      <td>February, 2006 [EBook #9906]</td>\n",
       "      <td>\\n\\n\\n\\n\\nProduced by Juliet Sutherland, Micha...</td>\n",
       "      <td>In the Sargasso Sea</td>\n",
       "      <td>[[Produced, by, Juliet, Sutherland, ,, Michael...</td>\n",
       "      <td>[[produced, juliet, sutherland, michael, locke...</td>\n",
       "      <td>1898</td>\n",
       "    </tr>\n",
       "    <tr>\n",
       "      <th>9</th>\n",
       "      <td>Various</td>\n",
       "      <td>English</td>\n",
       "      <td>December, 2005  [EBook #9544]</td>\n",
       "      <td>\\n\\n\\n\\n\\nE-text prepared by Joshua Hutchinson...</td>\n",
       "      <td>Punchinello, Vol. 1, Issue 10</td>\n",
       "      <td>[[E-text, prepared, by, Joshua, Hutchinson, ,,...</td>\n",
       "      <td>[[prepared, joshua, hutchinson, sandra, brown,...</td>\n",
       "      <td>1870</td>\n",
       "    </tr>\n",
       "    <tr>\n",
       "      <th>12</th>\n",
       "      <td>John Dryden</td>\n",
       "      <td>English</td>\n",
       "      <td>February, 2005 [EBook #7490]</td>\n",
       "      <td>\\n\\n\\n\\n\\nProduced by Ted Garvin, Charles Fran...</td>\n",
       "      <td>Palamon and Arcite</td>\n",
       "      <td>[[Produced, by, Ted, Garvin, ,, Charles, Frank...</td>\n",
       "      <td>[[produced, ted, garvin, charles, franks, dist...</td>\n",
       "      <td>1897</td>\n",
       "    </tr>\n",
       "  </tbody>\n",
       "</table>\n",
       "</div>"
      ],
      "text/plain": [
       "               author language                   release_date  \\\n",
       "0             Various  English  September, 2005 [EBook #8951]   \n",
       "3     Maria Edgeworth  English   December, 2005 [EBook #9414]   \n",
       "6   Thomas A. Janvier  English   February, 2006 [EBook #9906]   \n",
       "9             Various  English  December, 2005  [EBook #9544]   \n",
       "12        John Dryden  English   February, 2005 [EBook #7490]   \n",
       "\n",
       "                                                 text  \\\n",
       "0   \\n\\n\\n\\n\\nProduced by Don Kretz, Juliet Suther...   \n",
       "3   \\n\\n\\n\\n\\nProduced by Jonathan Ingram, Tapio R...   \n",
       "6   \\n\\n\\n\\n\\nProduced by Juliet Sutherland, Micha...   \n",
       "9   \\n\\n\\n\\n\\nE-text prepared by Joshua Hutchinson...   \n",
       "12  \\n\\n\\n\\n\\nProduced by Ted Garvin, Charles Fran...   \n",
       "\n",
       "                                                title  \\\n",
       "0   Scientific American, Vol. 17, No. 26 December ...   \n",
       "3                            Tales and Novels, Vol. V   \n",
       "6                                 In the Sargasso Sea   \n",
       "9                       Punchinello, Vol. 1, Issue 10   \n",
       "12                                 Palamon and Arcite   \n",
       "\n",
       "                                      tokenized_sents  \\\n",
       "0   [[Produced, by, Don, Kretz, ,, Juliet, Sutherl...   \n",
       "3   [[Produced, by, Jonathan, Ingram, ,, Tapio, Ri...   \n",
       "6   [[Produced, by, Juliet, Sutherland, ,, Michael...   \n",
       "9   [[E-text, prepared, by, Joshua, Hutchinson, ,,...   \n",
       "12  [[Produced, by, Ted, Garvin, ,, Charles, Frank...   \n",
       "\n",
       "                                     normalized_sents  year  \n",
       "0   [[produced, kretz, juliet, sutherland, distrib...  1867  \n",
       "3   [[produced, jonathan, ingram, tapio, riikonen,...  1857  \n",
       "6   [[produced, juliet, sutherland, michael, locke...  1898  \n",
       "9   [[prepared, joshua, hutchinson, sandra, brown,...  1870  \n",
       "12  [[produced, ted, garvin, charles, franks, dist...  1897  "
      ]
     },
     "execution_count": 82,
     "metadata": {},
     "output_type": "execute_result"
    }
   ],
   "source": [
    "GPDF['year'] = pd.to_numeric(GPDF['year'])\n",
    "GPDF[(GPDF['year']<=2000)&(GPDF['year']>=1700)].head()"
   ]
  },
  {
   "cell_type": "code",
   "execution_count": 93,
   "metadata": {},
   "outputs": [
    {
     "name": "stdout",
     "output_type": "stream",
     "text": [
      "72\n",
      "145\n",
      "218\n",
      "306\n",
      "523\n",
      "688\n",
      "1016\n"
     ]
    }
   ],
   "source": [
    "print(len(GPDF[(GPDF['year']<=1775)&(GPDF['year']>1750)]))\n",
    "print(len(GPDF[(GPDF['year']<=1800)&(GPDF['year']>1775)]))\n",
    "print(len(GPDF[(GPDF['year']<=1825)&(GPDF['year']>1800)]))\n",
    "print(len(GPDF[(GPDF['year']<=1850)&(GPDF['year']>1825)]))\n",
    "print(len(GPDF[(GPDF['year']<=1875)&(GPDF['year']>1850)]))\n",
    "print(len(GPDF[(GPDF['year']<=1900)&(GPDF['year']>1875)]))\n",
    "print(len(GPDF[(GPDF['year']<=1925)&(GPDF['year']>1900)]))"
   ]
  },
  {
   "cell_type": "code",
   "execution_count": 23,
   "metadata": {
    "collapsed": true
   },
   "outputs": [],
   "source": [
    "#aggregate text and write to local .txt file\n",
    "f = open('Gutenberg_total_text.txt','w')\n",
    "\n",
    "for sent in test_input:\n",
    "    if len(sent) > 0:\n",
    "        line = \"\"\n",
    "        for word in sent[:-1]:\n",
    "            line += (word + \", \")\n",
    "        line += sent[-1]\n",
    "        f.write(line+\"\\n\")\n",
    "        \n",
    "f.close()"
   ]
  },
  {
   "cell_type": "code",
   "execution_count": 94,
   "metadata": {
    "collapsed": true
   },
   "outputs": [],
   "source": [
    "#1750-1775\n",
    "test_input = GPDF[(GPDF['year']<1775)&(GPDF['year']>=1750)]['normalized_sents'].sum()\n",
    "\n",
    "f = open('GP_1750_1775_text.txt','w')\n",
    "\n",
    "for sent in test_input:\n",
    "    if len(sent) > 0:\n",
    "        line = \"\"\n",
    "        for word in sent[:-1]:\n",
    "            line += (word + \", \")\n",
    "        line += sent[-1]\n",
    "        f.write(line+\"\\n\")\n",
    "        \n",
    "f.close()"
   ]
  },
  {
   "cell_type": "code",
   "execution_count": 95,
   "metadata": {
    "collapsed": true
   },
   "outputs": [],
   "source": [
    "#1775-1800\n",
    "test_input = GPDF[(GPDF['year']<1800)&(GPDF['year']>=1775)]['normalized_sents'].sum()\n",
    "\n",
    "f = open('GP_1775_1800_text.txt','w')\n",
    "\n",
    "for sent in test_input:\n",
    "    if len(sent) > 0:\n",
    "        line = \"\"\n",
    "        for word in sent[:-1]:\n",
    "            line += (word + \", \")\n",
    "        line += sent[-1]\n",
    "        f.write(line+\"\\n\")\n",
    "        \n",
    "f.close()"
   ]
  },
  {
   "cell_type": "code",
   "execution_count": 96,
   "metadata": {
    "collapsed": true
   },
   "outputs": [],
   "source": [
    "#1800-1825\n",
    "test_input = GPDF[(GPDF['year']<1825)&(GPDF['year']>=1800)]['normalized_sents'].sum()\n",
    "\n",
    "f = open('GP_1800_1825_text.txt','w')\n",
    "\n",
    "for sent in test_input:\n",
    "    if len(sent) > 0:\n",
    "        line = \"\"\n",
    "        for word in sent[:-1]:\n",
    "            line += (word + \", \")\n",
    "        line += sent[-1]\n",
    "        f.write(line+\"\\n\")\n",
    "        \n",
    "f.close()"
   ]
  },
  {
   "cell_type": "code",
   "execution_count": 97,
   "metadata": {
    "collapsed": true
   },
   "outputs": [],
   "source": [
    "#1825-1850\n",
    "test_input = GPDF[(GPDF['year']<1850)&(GPDF['year']>=1825)]['normalized_sents'].sum()\n",
    "\n",
    "f = open('GP_1825_1850_text.txt','w')\n",
    "\n",
    "for sent in test_input:\n",
    "    if len(sent) > 0:\n",
    "        line = \"\"\n",
    "        for word in sent[:-1]:\n",
    "            line += (word + \", \")\n",
    "        line += sent[-1]\n",
    "        f.write(line+\"\\n\")\n",
    "        \n",
    "f.close()"
   ]
  },
  {
   "cell_type": "code",
   "execution_count": 98,
   "metadata": {
    "collapsed": true
   },
   "outputs": [],
   "source": [
    "#1850-1875\n",
    "test_input = GPDF[(GPDF['year']<1875)&(GPDF['year']>=1850)]['normalized_sents'].sum()\n",
    "\n",
    "f = open('GP_1850_1875_text.txt','w')\n",
    "\n",
    "for sent in test_input:\n",
    "    if len(sent) > 0:\n",
    "        line = \"\"\n",
    "        for word in sent[:-1]:\n",
    "            line += (word + \", \")\n",
    "        line += sent[-1]\n",
    "        f.write(line+\"\\n\")\n",
    "        \n",
    "f.close()"
   ]
  },
  {
   "cell_type": "code",
   "execution_count": 99,
   "metadata": {
    "collapsed": true
   },
   "outputs": [],
   "source": [
    "#1875-1900\n",
    "test_input = GPDF[(GPDF['year']<1900)&(GPDF['year']>=1875)]['normalized_sents'].sum()\n",
    "\n",
    "f = open('GP_1875_1900_text.txt','w')\n",
    "\n",
    "for sent in test_input:\n",
    "    if len(sent) > 0:\n",
    "        line = \"\"\n",
    "        for word in sent[:-1]:\n",
    "            line += (word + \", \")\n",
    "        line += sent[-1]\n",
    "        f.write(line+\"\\n\")\n",
    "        \n",
    "f.close()"
   ]
  },
  {
   "cell_type": "code",
   "execution_count": 100,
   "metadata": {
    "collapsed": true
   },
   "outputs": [],
   "source": [
    "#1900-1925\n",
    "test_input = GPDF[(GPDF['year']<1925)&(GPDF['year']>=1900)]['normalized_sents'].sum()\n",
    "\n",
    "f = open('GP_1900_1925_text.txt','w')\n",
    "\n",
    "for sent in test_input:\n",
    "    if len(sent) > 0:\n",
    "        line = \"\"\n",
    "        for word in sent[:-1]:\n",
    "            line += (word + \", \")\n",
    "        line += sent[-1]\n",
    "        f.write(line+\"\\n\")\n",
    "        \n",
    "f.close()"
   ]
  },
  {
   "cell_type": "markdown",
   "metadata": {},
   "source": [
    "## Load MapReduce Total Count Results"
   ]
  },
  {
   "cell_type": "code",
   "execution_count": null,
   "metadata": {
    "collapsed": true
   },
   "outputs": [],
   "source": [
    "#gutenberg project total count\n",
    "gp_count_df = pandas.read_csv(\"GP_total_count.txt\", delim_whitespace=True,\n",
    "                              header=None, names = [\"word\", \"count\"])\n",
    "\n",
    "gp_count_df = gp_count_df.sort_values(by = [\"count\"], axis = 0, ascending = False)\n",
    "gp_count_df.head()"
   ]
  },
  {
   "cell_type": "code",
   "execution_count": 28,
   "metadata": {
    "collapsed": true
   },
   "outputs": [],
   "source": [
    "#write top 1000 frequent vocabularies to txt file (reference frame for collocation)\n",
    "f = open('GP_top_1000_words.txt','w')\n",
    "\n",
    "for w in gp_count_df['word'][:1000]:\n",
    "    f.write(w+\"\\n\")\n",
    "        \n",
    "f.close()"
   ]
  },
  {
   "cell_type": "markdown",
   "metadata": {},
   "source": [
    "## Load MapReduce Collocation Results"
   ]
  },
  {
   "cell_type": "code",
   "execution_count": 4,
   "metadata": {},
   "outputs": [
    {
     "data": {
      "text/html": [
       "<div>\n",
       "<style scoped>\n",
       "    .dataframe tbody tr th:only-of-type {\n",
       "        vertical-align: middle;\n",
       "    }\n",
       "\n",
       "    .dataframe tbody tr th {\n",
       "        vertical-align: top;\n",
       "    }\n",
       "\n",
       "    .dataframe thead th {\n",
       "        text-align: right;\n",
       "    }\n",
       "</style>\n",
       "<table border=\"1\" class=\"dataframe\">\n",
       "  <thead>\n",
       "    <tr style=\"text-align: right;\">\n",
       "      <th></th>\n",
       "      <th>word</th>\n",
       "      <th>vec</th>\n",
       "    </tr>\n",
       "  </thead>\n",
       "  <tbody>\n",
       "    <tr>\n",
       "      <th>0</th>\n",
       "      <td>lacs</td>\n",
       "      <td>[0.0, 0.0, 0.0, 0.0, 0.0, 0.0, 1.0, 0.0, 0.0, ...</td>\n",
       "    </tr>\n",
       "    <tr>\n",
       "      <th>1</th>\n",
       "      <td>lactantius</td>\n",
       "      <td>[0.0, 0.0, 0.0, 1.0, 0.0, 0.0, 0.0, 0.0, 0.0, ...</td>\n",
       "    </tr>\n",
       "    <tr>\n",
       "      <th>2</th>\n",
       "      <td>lacte</td>\n",
       "      <td>[0.0, 0.0, 0.0, 0.0, 0.0, 0.0, 0.0, 0.0, 0.0, ...</td>\n",
       "    </tr>\n",
       "    <tr>\n",
       "      <th>3</th>\n",
       "      <td>lactea</td>\n",
       "      <td>[0.0, 0.0, 0.0, 0.0, 0.0, 0.0, 0.0, 0.0, 0.0, ...</td>\n",
       "    </tr>\n",
       "    <tr>\n",
       "      <th>4</th>\n",
       "      <td>lactilla</td>\n",
       "      <td>[0.0, 0.0, 0.0, 0.0, 0.0, 0.0, 0.0, 0.0, 0.5, ...</td>\n",
       "    </tr>\n",
       "  </tbody>\n",
       "</table>\n",
       "</div>"
      ],
      "text/plain": [
       "         word                                                vec\n",
       "0        lacs  [0.0, 0.0, 0.0, 0.0, 0.0, 0.0, 1.0, 0.0, 0.0, ...\n",
       "1  lactantius  [0.0, 0.0, 0.0, 1.0, 0.0, 0.0, 0.0, 0.0, 0.0, ...\n",
       "2       lacte  [0.0, 0.0, 0.0, 0.0, 0.0, 0.0, 0.0, 0.0, 0.0, ...\n",
       "3      lactea  [0.0, 0.0, 0.0, 0.0, 0.0, 0.0, 0.0, 0.0, 0.0, ...\n",
       "4    lactilla  [0.0, 0.0, 0.0, 0.0, 0.0, 0.0, 0.0, 0.0, 0.5, ..."
      ]
     },
     "execution_count": 4,
     "metadata": {},
     "output_type": "execute_result"
    }
   ],
   "source": [
    "GP_1750_1775_colloc = pd.read_csv(\"GP_1750_1775_colloc.txt\", delimiter = \"\t\",\n",
    "                               header=None, names = ['word','vec'])\n",
    "\n",
    "GP_1750_1775_colloc['vec'] = GP_1750_1775_colloc['vec'].apply(json.loads)\n",
    "GP_1750_1775_colloc.head()"
   ]
  },
  {
   "cell_type": "code",
   "execution_count": 5,
   "metadata": {},
   "outputs": [
    {
     "data": {
      "text/html": [
       "<div>\n",
       "<style scoped>\n",
       "    .dataframe tbody tr th:only-of-type {\n",
       "        vertical-align: middle;\n",
       "    }\n",
       "\n",
       "    .dataframe tbody tr th {\n",
       "        vertical-align: top;\n",
       "    }\n",
       "\n",
       "    .dataframe thead th {\n",
       "        text-align: right;\n",
       "    }\n",
       "</style>\n",
       "<table border=\"1\" class=\"dataframe\">\n",
       "  <thead>\n",
       "    <tr style=\"text-align: right;\">\n",
       "      <th></th>\n",
       "      <th>word</th>\n",
       "      <th>vec</th>\n",
       "    </tr>\n",
       "  </thead>\n",
       "  <tbody>\n",
       "    <tr>\n",
       "      <th>0</th>\n",
       "      <td>kowno</td>\n",
       "      <td>[0.14285714285714285, 0.0, 0.0, 0.0, 0.0, 0.0,...</td>\n",
       "    </tr>\n",
       "    <tr>\n",
       "      <th>1</th>\n",
       "      <td>kowrowa</td>\n",
       "      <td>[0.0, 0.0, 0.0, 0.0, 0.0, 0.0, 0.0, 0.0, 0.0, ...</td>\n",
       "    </tr>\n",
       "    <tr>\n",
       "      <th>2</th>\n",
       "      <td>kr</td>\n",
       "      <td>[0.0, 0.0, 0.0, 0.0, 0.0, 0.0, 0.0, 0.0, 0.0, ...</td>\n",
       "    </tr>\n",
       "    <tr>\n",
       "      <th>3</th>\n",
       "      <td>kr\\u00f6yer</td>\n",
       "      <td>[0.0, 0.0, 0.0, 0.0, 0.0, 0.0, 0.0, 0.0, 1.0, ...</td>\n",
       "    </tr>\n",
       "    <tr>\n",
       "      <th>4</th>\n",
       "      <td>kr\\u00fcdener</td>\n",
       "      <td>[0.0, 0.0, 0.0, 0.0, 0.0, 0.0, 1.0, 0.0, 0.0, ...</td>\n",
       "    </tr>\n",
       "  </tbody>\n",
       "</table>\n",
       "</div>"
      ],
      "text/plain": [
       "            word                                                vec\n",
       "0          kowno  [0.14285714285714285, 0.0, 0.0, 0.0, 0.0, 0.0,...\n",
       "1        kowrowa  [0.0, 0.0, 0.0, 0.0, 0.0, 0.0, 0.0, 0.0, 0.0, ...\n",
       "2             kr  [0.0, 0.0, 0.0, 0.0, 0.0, 0.0, 0.0, 0.0, 0.0, ...\n",
       "3    kr\\u00f6yer  [0.0, 0.0, 0.0, 0.0, 0.0, 0.0, 0.0, 0.0, 1.0, ...\n",
       "4  kr\\u00fcdener  [0.0, 0.0, 0.0, 0.0, 0.0, 0.0, 1.0, 0.0, 0.0, ..."
      ]
     },
     "execution_count": 5,
     "metadata": {},
     "output_type": "execute_result"
    }
   ],
   "source": [
    "GP_1775_1800_colloc = pd.read_csv(\"GP_1775_1800_colloc.txt\", delimiter = \"\t\",\n",
    "                               header=None, names = ['word','vec'])\n",
    "\n",
    "GP_1775_1800_colloc['vec'] = GP_1775_1800_colloc['vec'].apply(json.loads)\n",
    "GP_1775_1800_colloc.head()"
   ]
  },
  {
   "cell_type": "code",
   "execution_count": 6,
   "metadata": {},
   "outputs": [
    {
     "data": {
      "text/html": [
       "<div>\n",
       "<style scoped>\n",
       "    .dataframe tbody tr th:only-of-type {\n",
       "        vertical-align: middle;\n",
       "    }\n",
       "\n",
       "    .dataframe tbody tr th {\n",
       "        vertical-align: top;\n",
       "    }\n",
       "\n",
       "    .dataframe thead th {\n",
       "        text-align: right;\n",
       "    }\n",
       "</style>\n",
       "<table border=\"1\" class=\"dataframe\">\n",
       "  <thead>\n",
       "    <tr style=\"text-align: right;\">\n",
       "      <th></th>\n",
       "      <th>word</th>\n",
       "      <th>vec</th>\n",
       "    </tr>\n",
       "  </thead>\n",
       "  <tbody>\n",
       "    <tr>\n",
       "      <th>0</th>\n",
       "      <td>lachrymals</td>\n",
       "      <td>[0.0, 0.0, 0.0, 0.0, 0.0, 0.0, 0.0, 0.0, 0.0, ...</td>\n",
       "    </tr>\n",
       "    <tr>\n",
       "      <th>1</th>\n",
       "      <td>lachrymas</td>\n",
       "      <td>[0.0, 0.0, 0.0, 0.0, 0.0, 0.0, 0.0, 0.0, 1.0, ...</td>\n",
       "    </tr>\n",
       "    <tr>\n",
       "      <th>2</th>\n",
       "      <td>lachrymation</td>\n",
       "      <td>[0.0, 0.0, 0.0, 0.0, 0.0, 0.0, 0.0, 0.0, 0.0, ...</td>\n",
       "    </tr>\n",
       "    <tr>\n",
       "      <th>3</th>\n",
       "      <td>lachrymatory</td>\n",
       "      <td>[0.0, 0.0, 0.0, 0.0, 0.0, 0.0, 0.0, 0.0, 0.0, ...</td>\n",
       "    </tr>\n",
       "    <tr>\n",
       "      <th>4</th>\n",
       "      <td>lachrymose</td>\n",
       "      <td>[0.0, 0.16666666666666666, 0.0, 0.0, 0.0, 0.0,...</td>\n",
       "    </tr>\n",
       "  </tbody>\n",
       "</table>\n",
       "</div>"
      ],
      "text/plain": [
       "           word                                                vec\n",
       "0    lachrymals  [0.0, 0.0, 0.0, 0.0, 0.0, 0.0, 0.0, 0.0, 0.0, ...\n",
       "1     lachrymas  [0.0, 0.0, 0.0, 0.0, 0.0, 0.0, 0.0, 0.0, 1.0, ...\n",
       "2  lachrymation  [0.0, 0.0, 0.0, 0.0, 0.0, 0.0, 0.0, 0.0, 0.0, ...\n",
       "3  lachrymatory  [0.0, 0.0, 0.0, 0.0, 0.0, 0.0, 0.0, 0.0, 0.0, ...\n",
       "4    lachrymose  [0.0, 0.16666666666666666, 0.0, 0.0, 0.0, 0.0,..."
      ]
     },
     "execution_count": 6,
     "metadata": {},
     "output_type": "execute_result"
    }
   ],
   "source": [
    "GP_1800_1825_colloc = pd.read_csv(\"GP_1800_1825_colloc.txt\", delimiter = \"\t\",\n",
    "                               header=None, names = ['word','vec'])\n",
    "\n",
    "GP_1800_1825_colloc['vec'] = GP_1800_1825_colloc['vec'].apply(json.loads)\n",
    "GP_1800_1825_colloc.head()"
   ]
  },
  {
   "cell_type": "code",
   "execution_count": 7,
   "metadata": {},
   "outputs": [
    {
     "data": {
      "text/html": [
       "<div>\n",
       "<style scoped>\n",
       "    .dataframe tbody tr th:only-of-type {\n",
       "        vertical-align: middle;\n",
       "    }\n",
       "\n",
       "    .dataframe tbody tr th {\n",
       "        vertical-align: top;\n",
       "    }\n",
       "\n",
       "    .dataframe thead th {\n",
       "        text-align: right;\n",
       "    }\n",
       "</style>\n",
       "<table border=\"1\" class=\"dataframe\">\n",
       "  <thead>\n",
       "    <tr style=\"text-align: right;\">\n",
       "      <th></th>\n",
       "      <th>word</th>\n",
       "      <th>vec</th>\n",
       "    </tr>\n",
       "  </thead>\n",
       "  <tbody>\n",
       "    <tr>\n",
       "      <th>0</th>\n",
       "      <td>label</td>\n",
       "      <td>[0.13513513513513514, 0.05405405405405406, 0.0...</td>\n",
       "    </tr>\n",
       "    <tr>\n",
       "      <th>1</th>\n",
       "      <td>labeled</td>\n",
       "      <td>[0.0, 0.0, 0.14285714285714285, 0.142857142857...</td>\n",
       "    </tr>\n",
       "    <tr>\n",
       "      <th>2</th>\n",
       "      <td>labeling</td>\n",
       "      <td>[0.0, 0.0, 0.0, 0.0, 0.0, 0.0, 0.0, 0.0, 0.0, ...</td>\n",
       "    </tr>\n",
       "    <tr>\n",
       "      <th>3</th>\n",
       "      <td>labelle</td>\n",
       "      <td>[0.0, 0.0, 0.0, 0.0, 0.0, 0.0, 0.0, 0.0, 0.0, ...</td>\n",
       "    </tr>\n",
       "    <tr>\n",
       "      <th>4</th>\n",
       "      <td>labelled</td>\n",
       "      <td>[0.1875, 0.0, 0.09375, 0.15625, 0.03125, 0.0, ...</td>\n",
       "    </tr>\n",
       "  </tbody>\n",
       "</table>\n",
       "</div>"
      ],
      "text/plain": [
       "       word                                                vec\n",
       "0     label  [0.13513513513513514, 0.05405405405405406, 0.0...\n",
       "1   labeled  [0.0, 0.0, 0.14285714285714285, 0.142857142857...\n",
       "2  labeling  [0.0, 0.0, 0.0, 0.0, 0.0, 0.0, 0.0, 0.0, 0.0, ...\n",
       "3   labelle  [0.0, 0.0, 0.0, 0.0, 0.0, 0.0, 0.0, 0.0, 0.0, ...\n",
       "4  labelled  [0.1875, 0.0, 0.09375, 0.15625, 0.03125, 0.0, ..."
      ]
     },
     "execution_count": 7,
     "metadata": {},
     "output_type": "execute_result"
    }
   ],
   "source": [
    "GP_1825_1850_colloc = pd.read_csv(\"GP_1825_1850_colloc.txt\", delimiter = \"\t\",\n",
    "                               header=None, names = ['word','vec'])\n",
    "\n",
    "GP_1825_1850_colloc['vec'] = GP_1825_1850_colloc['vec'].apply(json.loads)\n",
    "GP_1825_1850_colloc.head()"
   ]
  },
  {
   "cell_type": "code",
   "execution_count": 51,
   "metadata": {},
   "outputs": [
    {
     "data": {
      "text/plain": [
       "212476"
      ]
     },
     "execution_count": 51,
     "metadata": {},
     "output_type": "execute_result"
    }
   ],
   "source": [
    "#find common vocabularies\n",
    "common_vocabs = list(set(GP_1825_1850_colloc['word'].tolist() + \n",
    "                         GP_1800_1825_colloc['word'].tolist() +\n",
    "                         GP_1775_1800_colloc['word'].tolist() +\n",
    "                         GP_1750_1775_colloc['word'].tolist()))\n",
    "len(common_vocabs)"
   ]
  },
  {
   "cell_type": "code",
   "execution_count": 75,
   "metadata": {},
   "outputs": [
    {
     "data": {
      "text/plain": [
       "22631"
      ]
     },
     "execution_count": 75,
     "metadata": {},
     "output_type": "execute_result"
    }
   ],
   "source": [
    "# remove some low-frequency vocabularies\n",
    "commonvocabs = sorted(list(set(common_vocabs[1:])&set(gp_count_df[gp_count_df['count']>=500]['word'].tolist())))\n",
    "len(commonvocabs)"
   ]
  },
  {
   "cell_type": "markdown",
   "metadata": {},
   "source": [
    "## Compute Semantic Change"
   ]
  },
  {
   "cell_type": "code",
   "execution_count": 85,
   "metadata": {},
   "outputs": [
    {
     "data": {
      "text/plain": [
       "0.017574487287371876"
      ]
     },
     "execution_count": 85,
     "metadata": {},
     "output_type": "execute_result"
    }
   ],
   "source": [
    "import scipy\n",
    "\n",
    "def compute_semantic_change(word, df1, df2):\n",
    "    vec1 = df1[df1['word']==word]['vec'].sum()\n",
    "    vec2 = df2[df2['word']==word]['vec'].sum()\n",
    "    return scipy.spatial.distance.cosine(vec1,vec2)\n",
    "\n",
    "compute_semantic_change('love', GP_1825_1850_colloc, GP_1800_1825_colloc)"
   ]
  },
  {
   "cell_type": "code",
   "execution_count": 87,
   "metadata": {},
   "outputs": [
    {
     "name": "stderr",
     "output_type": "stream",
     "text": [
      "/Users/lingdai/anaconda3/lib/python3.6/site-packages/scipy/spatial/distance.py:644: RuntimeWarning: invalid value encountered in double_scalars\n",
      "  dist = 1.0 - uv / np.sqrt(uu * vv)\n"
     ]
    }
   ],
   "source": [
    "semantic_change_1775 = []\n",
    "semantic_change_1800 = []\n",
    "semantic_change_1825 = []\n",
    "\n",
    "\n",
    "for word in commonvocabs:\n",
    "    semantic_change_1775.append(compute_semantic_change(word,\n",
    "                                                        GP_1750_1775_colloc,\n",
    "                                                        GP_1775_1800_colloc))\n",
    "    semantic_change_1800.append(compute_semantic_change(word,\n",
    "                                                        GP_1775_1800_colloc,\n",
    "                                                        GP_1800_1825_colloc))\n",
    "    semantic_change_1825.append(compute_semantic_change(word,\n",
    "                                                        GP_1800_1825_colloc,\n",
    "                                                        GP_1825_1850_colloc))"
   ]
  },
  {
   "cell_type": "code",
   "execution_count": null,
   "metadata": {},
   "outputs": [],
   "source": [
    "gp_semantic_change = pandas.DataFrame({\"word\":commonvocabs,\n",
    "                                       \"change_1775\":semantic_change_1775,\n",
    "                                       \"change_1800\":semantic_change_1800,\n",
    "                                       \"change_1825\":semantic_change_1825})\n",
    "\n",
    "gp_semantic_change['avg.change'] = (gp_semantic_change['change_1775'] +\n",
    "                                    gp_semantic_change['change_1800'] +\n",
    "                                    gp_semantic_change['change_1825'])/3\n",
    "\n",
    "gp_semantic_change = gp_semantic_change[['word','avg.change',\n",
    "                                         'change_1775','change_1800','change_1825']]\n",
    "\n",
    "gp_semantic_change = gp_semantic_change.sort_values(by=['avg.change'],ascending = True)\n",
    "gp_semantic_change.head()"
   ]
  },
  {
   "cell_type": "code",
   "execution_count": 90,
   "metadata": {},
   "outputs": [
    {
     "data": {
      "text/plain": [
       "21306"
      ]
     },
     "execution_count": 90,
     "metadata": {},
     "output_type": "execute_result"
    }
   ],
   "source": [
    "gp_semantic_change = gp_semantic_change.dropna()\n",
    "len(gp_semantic_change)"
   ]
  },
  {
   "cell_type": "markdown",
   "metadata": {},
   "source": [
    "## Compute Relative Frequency"
   ]
  },
  {
   "cell_type": "code",
   "execution_count": 96,
   "metadata": {},
   "outputs": [
    {
     "data": {
      "text/plain": [
       "40451"
      ]
     },
     "execution_count": 96,
     "metadata": {},
     "output_type": "execute_result"
    }
   ],
   "source": [
    "def gp_match_count(vocab):\n",
    "    if gp_count_df[gp_count_df['word']==vocab]['count'].tolist():\n",
    "        return gp_count_df[gp_count_df['word']==vocab]['count'].tolist()[0]\n",
    "    return 0\n",
    "\n",
    "gp_match_count(\"language\")"
   ]
  },
  {
   "cell_type": "code",
   "execution_count": 97,
   "metadata": {},
   "outputs": [
    {
     "data": {
      "text/html": [
       "<div>\n",
       "<style scoped>\n",
       "    .dataframe tbody tr th:only-of-type {\n",
       "        vertical-align: middle;\n",
       "    }\n",
       "\n",
       "    .dataframe tbody tr th {\n",
       "        vertical-align: top;\n",
       "    }\n",
       "\n",
       "    .dataframe thead th {\n",
       "        text-align: right;\n",
       "    }\n",
       "</style>\n",
       "<table border=\"1\" class=\"dataframe\">\n",
       "  <thead>\n",
       "    <tr style=\"text-align: right;\">\n",
       "      <th></th>\n",
       "      <th>word</th>\n",
       "      <th>avg.change</th>\n",
       "      <th>change_1775</th>\n",
       "      <th>change_1800</th>\n",
       "      <th>change_1825</th>\n",
       "      <th>count</th>\n",
       "    </tr>\n",
       "  </thead>\n",
       "  <tbody>\n",
       "    <tr>\n",
       "      <th>8395</th>\n",
       "      <td>ftp</td>\n",
       "      <td>0.0</td>\n",
       "      <td>0.0</td>\n",
       "      <td>0.0</td>\n",
       "      <td>0.0</td>\n",
       "      <td>4792</td>\n",
       "    </tr>\n",
       "    <tr>\n",
       "      <th>12717</th>\n",
       "      <td>merchantability</td>\n",
       "      <td>0.0</td>\n",
       "      <td>0.0</td>\n",
       "      <td>0.0</td>\n",
       "      <td>0.0</td>\n",
       "      <td>4783</td>\n",
       "    </tr>\n",
       "    <tr>\n",
       "      <th>15171</th>\n",
       "      <td>pmb</td>\n",
       "      <td>0.0</td>\n",
       "      <td>0.0</td>\n",
       "      <td>0.0</td>\n",
       "      <td>0.0</td>\n",
       "      <td>4099</td>\n",
       "    </tr>\n",
       "    <tr>\n",
       "      <th>7798</th>\n",
       "      <td>filename</td>\n",
       "      <td>0.0</td>\n",
       "      <td>0.0</td>\n",
       "      <td>0.0</td>\n",
       "      <td>0.0</td>\n",
       "      <td>4854</td>\n",
       "    </tr>\n",
       "    <tr>\n",
       "      <th>6102</th>\n",
       "      <td>donate</td>\n",
       "      <td>0.0</td>\n",
       "      <td>0.0</td>\n",
       "      <td>0.0</td>\n",
       "      <td>0.0</td>\n",
       "      <td>9603</td>\n",
       "    </tr>\n",
       "  </tbody>\n",
       "</table>\n",
       "</div>"
      ],
      "text/plain": [
       "                  word  avg.change  change_1775  change_1800  change_1825  \\\n",
       "8395               ftp         0.0          0.0          0.0          0.0   \n",
       "12717  merchantability         0.0          0.0          0.0          0.0   \n",
       "15171              pmb         0.0          0.0          0.0          0.0   \n",
       "7798          filename         0.0          0.0          0.0          0.0   \n",
       "6102            donate         0.0          0.0          0.0          0.0   \n",
       "\n",
       "       count  \n",
       "8395    4792  \n",
       "12717   4783  \n",
       "15171   4099  \n",
       "7798    4854  \n",
       "6102    9603  "
      ]
     },
     "execution_count": 97,
     "metadata": {},
     "output_type": "execute_result"
    }
   ],
   "source": [
    "gp_semantic_change['count'] = gp_semantic_change['word'].apply(gp_match_count)\n",
    "gp_semantic_change.head()"
   ]
  },
  {
   "cell_type": "code",
   "execution_count": 98,
   "metadata": {},
   "outputs": [
    {
     "data": {
      "text/html": [
       "<div>\n",
       "<style scoped>\n",
       "    .dataframe tbody tr th:only-of-type {\n",
       "        vertical-align: middle;\n",
       "    }\n",
       "\n",
       "    .dataframe tbody tr th {\n",
       "        vertical-align: top;\n",
       "    }\n",
       "\n",
       "    .dataframe thead th {\n",
       "        text-align: right;\n",
       "    }\n",
       "</style>\n",
       "<table border=\"1\" class=\"dataframe\">\n",
       "  <thead>\n",
       "    <tr style=\"text-align: right;\">\n",
       "      <th></th>\n",
       "      <th>word</th>\n",
       "      <th>avg.change</th>\n",
       "      <th>change_1775</th>\n",
       "      <th>change_1800</th>\n",
       "      <th>change_1825</th>\n",
       "      <th>count</th>\n",
       "      <th>relative_freq</th>\n",
       "    </tr>\n",
       "  </thead>\n",
       "  <tbody>\n",
       "    <tr>\n",
       "      <th>8395</th>\n",
       "      <td>ftp</td>\n",
       "      <td>0.000000e+00</td>\n",
       "      <td>0.0</td>\n",
       "      <td>0.0</td>\n",
       "      <td>0.000000</td>\n",
       "      <td>4792</td>\n",
       "      <td>0.000031</td>\n",
       "    </tr>\n",
       "    <tr>\n",
       "      <th>12717</th>\n",
       "      <td>merchantability</td>\n",
       "      <td>0.000000e+00</td>\n",
       "      <td>0.0</td>\n",
       "      <td>0.0</td>\n",
       "      <td>0.000000</td>\n",
       "      <td>4783</td>\n",
       "      <td>0.000031</td>\n",
       "    </tr>\n",
       "    <tr>\n",
       "      <th>15171</th>\n",
       "      <td>pmb</td>\n",
       "      <td>0.000000e+00</td>\n",
       "      <td>0.0</td>\n",
       "      <td>0.0</td>\n",
       "      <td>0.000000</td>\n",
       "      <td>4099</td>\n",
       "      <td>0.000026</td>\n",
       "    </tr>\n",
       "    <tr>\n",
       "      <th>7798</th>\n",
       "      <td>filename</td>\n",
       "      <td>0.000000e+00</td>\n",
       "      <td>0.0</td>\n",
       "      <td>0.0</td>\n",
       "      <td>0.000000</td>\n",
       "      <td>4854</td>\n",
       "      <td>0.000031</td>\n",
       "    </tr>\n",
       "    <tr>\n",
       "      <th>6102</th>\n",
       "      <td>donate</td>\n",
       "      <td>0.000000e+00</td>\n",
       "      <td>0.0</td>\n",
       "      <td>0.0</td>\n",
       "      <td>0.000000</td>\n",
       "      <td>9603</td>\n",
       "      <td>0.000062</td>\n",
       "    </tr>\n",
       "    <tr>\n",
       "      <th>3091</th>\n",
       "      <td>cataloguers</td>\n",
       "      <td>0.000000e+00</td>\n",
       "      <td>0.0</td>\n",
       "      <td>0.0</td>\n",
       "      <td>0.000000</td>\n",
       "      <td>4787</td>\n",
       "      <td>0.000031</td>\n",
       "    </tr>\n",
       "    <tr>\n",
       "      <th>13552</th>\n",
       "      <td>newsletter</td>\n",
       "      <td>0.000000e+00</td>\n",
       "      <td>0.0</td>\n",
       "      <td>0.0</td>\n",
       "      <td>0.000000</td>\n",
       "      <td>9593</td>\n",
       "      <td>0.000062</td>\n",
       "    </tr>\n",
       "    <tr>\n",
       "      <th>21929</th>\n",
       "      <td>warranties</td>\n",
       "      <td>0.000000e+00</td>\n",
       "      <td>0.0</td>\n",
       "      <td>0.0</td>\n",
       "      <td>0.000000</td>\n",
       "      <td>14358</td>\n",
       "      <td>0.000092</td>\n",
       "    </tr>\n",
       "    <tr>\n",
       "      <th>13553</th>\n",
       "      <td>newsletters</td>\n",
       "      <td>0.000000e+00</td>\n",
       "      <td>0.0</td>\n",
       "      <td>0.0</td>\n",
       "      <td>0.000000</td>\n",
       "      <td>4790</td>\n",
       "      <td>0.000031</td>\n",
       "    </tr>\n",
       "    <tr>\n",
       "      <th>660</th>\n",
       "      <td>alternatively</td>\n",
       "      <td>3.909977e-07</td>\n",
       "      <td>0.0</td>\n",
       "      <td>0.0</td>\n",
       "      <td>0.000001</td>\n",
       "      <td>9603</td>\n",
       "      <td>0.000062</td>\n",
       "    </tr>\n",
       "  </tbody>\n",
       "</table>\n",
       "</div>"
      ],
      "text/plain": [
       "                  word    avg.change  change_1775  change_1800  change_1825  \\\n",
       "8395               ftp  0.000000e+00          0.0          0.0     0.000000   \n",
       "12717  merchantability  0.000000e+00          0.0          0.0     0.000000   \n",
       "15171              pmb  0.000000e+00          0.0          0.0     0.000000   \n",
       "7798          filename  0.000000e+00          0.0          0.0     0.000000   \n",
       "6102            donate  0.000000e+00          0.0          0.0     0.000000   \n",
       "3091       cataloguers  0.000000e+00          0.0          0.0     0.000000   \n",
       "13552       newsletter  0.000000e+00          0.0          0.0     0.000000   \n",
       "21929       warranties  0.000000e+00          0.0          0.0     0.000000   \n",
       "13553      newsletters  0.000000e+00          0.0          0.0     0.000000   \n",
       "660      alternatively  3.909977e-07          0.0          0.0     0.000001   \n",
       "\n",
       "       count  relative_freq  \n",
       "8395    4792       0.000031  \n",
       "12717   4783       0.000031  \n",
       "15171   4099       0.000026  \n",
       "7798    4854       0.000031  \n",
       "6102    9603       0.000062  \n",
       "3091    4787       0.000031  \n",
       "13552   9593       0.000062  \n",
       "21929  14358       0.000092  \n",
       "13553   4790       0.000031  \n",
       "660     9603       0.000062  "
      ]
     },
     "execution_count": 98,
     "metadata": {},
     "output_type": "execute_result"
    }
   ],
   "source": [
    "total_count = gp_semantic_change['count'].sum()\n",
    "gp_semantic_change['relative_freq'] = gp_semantic_change['count']/total_count\n",
    "gp_semantic_change[:10]"
   ]
  },
  {
   "cell_type": "markdown",
   "metadata": {},
   "source": [
    "## Analysis 1: Semantic Change X Relative Frequency"
   ]
  },
  {
   "cell_type": "code",
   "execution_count": 99,
   "metadata": {},
   "outputs": [
    {
     "data": {
      "text/html": [
       "<table class=\"simpletable\">\n",
       "<caption>OLS Regression Results</caption>\n",
       "<tr>\n",
       "  <th>Dep. Variable:</th>       <td>avg.change</td>    <th>  R-squared:         </th> <td>   0.139</td>\n",
       "</tr>\n",
       "<tr>\n",
       "  <th>Model:</th>                   <td>OLS</td>       <th>  Adj. R-squared:    </th> <td>   0.139</td>\n",
       "</tr>\n",
       "<tr>\n",
       "  <th>Method:</th>             <td>Least Squares</td>  <th>  F-statistic:       </th> <td>   3433.</td>\n",
       "</tr>\n",
       "<tr>\n",
       "  <th>Date:</th>             <td>Sun, 03 Jun 2018</td> <th>  Prob (F-statistic):</th>  <td>  0.00</td> \n",
       "</tr>\n",
       "<tr>\n",
       "  <th>Time:</th>                 <td>10:57:10</td>     <th>  Log-Likelihood:    </th> <td>  1863.0</td>\n",
       "</tr>\n",
       "<tr>\n",
       "  <th>No. Observations:</th>      <td> 21306</td>      <th>  AIC:               </th> <td>  -3722.</td>\n",
       "</tr>\n",
       "<tr>\n",
       "  <th>Df Residuals:</th>          <td> 21304</td>      <th>  BIC:               </th> <td>  -3706.</td>\n",
       "</tr>\n",
       "<tr>\n",
       "  <th>Df Model:</th>              <td>     1</td>      <th>                     </th>     <td> </td>   \n",
       "</tr>\n",
       "<tr>\n",
       "  <th>Covariance Type:</th>      <td>nonrobust</td>    <th>                     </th>     <td> </td>   \n",
       "</tr>\n",
       "</table>\n",
       "<table class=\"simpletable\">\n",
       "<tr>\n",
       "        <td></td>           <th>coef</th>     <th>std err</th>      <th>t</th>      <th>P>|t|</th>  <th>[0.025</th>    <th>0.975]</th>  \n",
       "</tr>\n",
       "<tr>\n",
       "  <th>const</th>         <td>    0.5250</td> <td>    0.002</td> <td>  333.738</td> <td> 0.000</td> <td>    0.522</td> <td>    0.528</td>\n",
       "</tr>\n",
       "<tr>\n",
       "  <th>relative_freq</th> <td> -511.2515</td> <td>    8.726</td> <td>  -58.592</td> <td> 0.000</td> <td> -528.354</td> <td> -494.149</td>\n",
       "</tr>\n",
       "</table>\n",
       "<table class=\"simpletable\">\n",
       "<tr>\n",
       "  <th>Omnibus:</th>       <td>2107.572</td> <th>  Durbin-Watson:     </th> <td>   0.171</td> \n",
       "</tr>\n",
       "<tr>\n",
       "  <th>Prob(Omnibus):</th>  <td> 0.000</td>  <th>  Jarque-Bera (JB):  </th> <td>12353.264</td>\n",
       "</tr>\n",
       "<tr>\n",
       "  <th>Skew:</th>           <td> 0.292</td>  <th>  Prob(JB):          </th> <td>    0.00</td> \n",
       "</tr>\n",
       "<tr>\n",
       "  <th>Kurtosis:</th>       <td> 6.684</td>  <th>  Cond. No.          </th> <td>5.74e+03</td> \n",
       "</tr>\n",
       "</table>"
      ],
      "text/plain": [
       "<class 'statsmodels.iolib.summary.Summary'>\n",
       "\"\"\"\n",
       "                            OLS Regression Results                            \n",
       "==============================================================================\n",
       "Dep. Variable:             avg.change   R-squared:                       0.139\n",
       "Model:                            OLS   Adj. R-squared:                  0.139\n",
       "Method:                 Least Squares   F-statistic:                     3433.\n",
       "Date:                Sun, 03 Jun 2018   Prob (F-statistic):               0.00\n",
       "Time:                        10:57:10   Log-Likelihood:                 1863.0\n",
       "No. Observations:               21306   AIC:                            -3722.\n",
       "Df Residuals:                   21304   BIC:                            -3706.\n",
       "Df Model:                           1                                         \n",
       "Covariance Type:            nonrobust                                         \n",
       "=================================================================================\n",
       "                    coef    std err          t      P>|t|      [0.025      0.975]\n",
       "---------------------------------------------------------------------------------\n",
       "const             0.5250      0.002    333.738      0.000       0.522       0.528\n",
       "relative_freq  -511.2515      8.726    -58.592      0.000    -528.354    -494.149\n",
       "==============================================================================\n",
       "Omnibus:                     2107.572   Durbin-Watson:                   0.171\n",
       "Prob(Omnibus):                  0.000   Jarque-Bera (JB):            12353.264\n",
       "Skew:                           0.292   Prob(JB):                         0.00\n",
       "Kurtosis:                       6.684   Cond. No.                     5.74e+03\n",
       "==============================================================================\n",
       "\n",
       "Warnings:\n",
       "[1] Standard Errors assume that the covariance matrix of the errors is correctly specified.\n",
       "[2] The condition number is large, 5.74e+03. This might indicate that there are\n",
       "strong multicollinearity or other numerical problems.\n",
       "\"\"\""
      ]
     },
     "execution_count": 99,
     "metadata": {},
     "output_type": "execute_result"
    }
   ],
   "source": [
    "import statsmodels.api as sm # import statsmodels \n",
    "\n",
    "X = gp_semantic_change[\"relative_freq\"] \n",
    "y = gp_semantic_change[\"avg.change\"]\n",
    "X = sm.add_constant(X)\n",
    "\n",
    "model = sm.OLS(y, X).fit() ## sm.OLS(output, input)\n",
    "predictions = model.predict(X)\n",
    "\n",
    "# Print out the statistics\n",
    "model.summary()"
   ]
  },
  {
   "cell_type": "code",
   "execution_count": 103,
   "metadata": {},
   "outputs": [
    {
     "data": {
      "text/plain": [
       "<matplotlib.collections.PathCollection at 0x350b60208>"
      ]
     },
     "execution_count": 103,
     "metadata": {},
     "output_type": "execute_result"
    },
    {
     "data": {
      "image/png": "[encoded data removed]",
      "text/plain": [
       "<Figure size 432x288 with 1 Axes>"
      ]
     },
     "metadata": {},
     "output_type": "display_data"
    }
   ],
   "source": [
    "plt.xlabel(\"relative frequency\")\n",
    "plt.ylabel(\"semantic change\")\n",
    "plt.xlim(0, gp_semantic_change[\"relative_freq\"].max())\n",
    "\n",
    "plt.scatter(gp_semantic_change[\"relative_freq\"],\n",
    "            gp_semantic_change[\"avg.change\"])"
   ]
  },
  {
   "cell_type": "code",
   "execution_count": 118,
   "metadata": {},
   "outputs": [
    {
     "data": {
      "text/html": [
       "<table class=\"simpletable\">\n",
       "<caption>OLS Regression Results</caption>\n",
       "<tr>\n",
       "  <th>Dep. Variable:</th>       <td>avg.change</td>    <th>  R-squared:         </th>  <td>   0.758</td> \n",
       "</tr>\n",
       "<tr>\n",
       "  <th>Model:</th>                   <td>OLS</td>       <th>  Adj. R-squared:    </th>  <td>   0.758</td> \n",
       "</tr>\n",
       "<tr>\n",
       "  <th>Method:</th>             <td>Least Squares</td>  <th>  F-statistic:       </th>  <td>6.661e+04</td>\n",
       "</tr>\n",
       "<tr>\n",
       "  <th>Date:</th>             <td>Sun, 03 Jun 2018</td> <th>  Prob (F-statistic):</th>   <td>  0.00</td>  \n",
       "</tr>\n",
       "<tr>\n",
       "  <th>Time:</th>                 <td>16:16:28</td>     <th>  Log-Likelihood:    </th>  <td>  15372.</td> \n",
       "</tr>\n",
       "<tr>\n",
       "  <th>No. Observations:</th>      <td> 21306</td>      <th>  AIC:               </th> <td>-3.074e+04</td>\n",
       "</tr>\n",
       "<tr>\n",
       "  <th>Df Residuals:</th>          <td> 21304</td>      <th>  BIC:               </th> <td>-3.072e+04</td>\n",
       "</tr>\n",
       "<tr>\n",
       "  <th>Df Model:</th>              <td>     1</td>      <th>                     </th>      <td> </td>    \n",
       "</tr>\n",
       "<tr>\n",
       "  <th>Covariance Type:</th>      <td>nonrobust</td>    <th>                     </th>      <td> </td>    \n",
       "</tr>\n",
       "</table>\n",
       "<table class=\"simpletable\">\n",
       "<tr>\n",
       "        <td></td>           <th>coef</th>     <th>std err</th>      <th>t</th>      <th>P>|t|</th>  <th>[0.025</th>    <th>0.975]</th>  \n",
       "</tr>\n",
       "<tr>\n",
       "  <th>const</th>         <td>   -1.3646</td> <td>    0.007</td> <td> -187.617</td> <td> 0.000</td> <td>   -1.379</td> <td>   -1.350</td>\n",
       "</tr>\n",
       "<tr>\n",
       "  <th>relative_freq</th> <td>   -0.1680</td> <td>    0.001</td> <td> -258.096</td> <td> 0.000</td> <td>   -0.169</td> <td>   -0.167</td>\n",
       "</tr>\n",
       "</table>\n",
       "<table class=\"simpletable\">\n",
       "<tr>\n",
       "  <th>Omnibus:</th>       <td>1352.165</td> <th>  Durbin-Watson:     </th> <td>   1.010</td>\n",
       "</tr>\n",
       "<tr>\n",
       "  <th>Prob(Omnibus):</th>  <td> 0.000</td>  <th>  Jarque-Bera (JB):  </th> <td>2793.023</td>\n",
       "</tr>\n",
       "<tr>\n",
       "  <th>Skew:</th>           <td> 0.437</td>  <th>  Prob(JB):          </th> <td>    0.00</td>\n",
       "</tr>\n",
       "<tr>\n",
       "  <th>Kurtosis:</th>       <td> 4.543</td>  <th>  Cond. No.          </th> <td>    102.</td>\n",
       "</tr>\n",
       "</table>"
      ],
      "text/plain": [
       "<class 'statsmodels.iolib.summary.Summary'>\n",
       "\"\"\"\n",
       "                            OLS Regression Results                            \n",
       "==============================================================================\n",
       "Dep. Variable:             avg.change   R-squared:                       0.758\n",
       "Model:                            OLS   Adj. R-squared:                  0.758\n",
       "Method:                 Least Squares   F-statistic:                 6.661e+04\n",
       "Date:                Sun, 03 Jun 2018   Prob (F-statistic):               0.00\n",
       "Time:                        16:16:28   Log-Likelihood:                 15372.\n",
       "No. Observations:               21306   AIC:                        -3.074e+04\n",
       "Df Residuals:                   21304   BIC:                        -3.072e+04\n",
       "Df Model:                           1                                         \n",
       "Covariance Type:            nonrobust                                         \n",
       "=================================================================================\n",
       "                    coef    std err          t      P>|t|      [0.025      0.975]\n",
       "---------------------------------------------------------------------------------\n",
       "const            -1.3646      0.007   -187.617      0.000      -1.379      -1.350\n",
       "relative_freq    -0.1680      0.001   -258.096      0.000      -0.169      -0.167\n",
       "==============================================================================\n",
       "Omnibus:                     1352.165   Durbin-Watson:                   1.010\n",
       "Prob(Omnibus):                  0.000   Jarque-Bera (JB):             2793.023\n",
       "Skew:                           0.437   Prob(JB):                         0.00\n",
       "Kurtosis:                       4.543   Cond. No.                         102.\n",
       "==============================================================================\n",
       "\n",
       "Warnings:\n",
       "[1] Standard Errors assume that the covariance matrix of the errors is correctly specified.\n",
       "\"\"\""
      ]
     },
     "execution_count": 118,
     "metadata": {},
     "output_type": "execute_result"
    }
   ],
   "source": [
    "import statsmodels.api as sm # import statsmodels \n",
    "\n",
    "X = gp_semantic_change[\"relative_freq\"].apply(np.log) \n",
    "y = gp_semantic_change[\"avg.change\"]\n",
    "X = sm.add_constant(X)\n",
    "\n",
    "model = sm.OLS(y, X).fit() ## sm.OLS(output, input)\n",
    "\n",
    "# Print out the statistics\n",
    "model.summary()"
   ]
  },
  {
   "cell_type": "code",
   "execution_count": 105,
   "metadata": {},
   "outputs": [
    {
     "data": {
      "text/plain": [
       "<matplotlib.collections.PathCollection at 0x352343eb8>"
      ]
     },
     "execution_count": 105,
     "metadata": {},
     "output_type": "execute_result"
    },
    {
     "data": {
      "image/png": "[encoded data removed]",
      "text/plain": [
       "<Figure size 432x288 with 1 Axes>"
      ]
     },
     "metadata": {},
     "output_type": "display_data"
    }
   ],
   "source": [
    "plt.xlabel(\"log(relative frequency)\")\n",
    "plt.ylabel(\"semantic change\")\n",
    "\n",
    "plt.scatter(gp_semantic_change[\"relative_freq\"].apply(np.log),\n",
    "            gp_semantic_change[\"avg.change\"])"
   ]
  },
  {
   "cell_type": "markdown",
   "metadata": {},
   "source": [
    "## Compute Polysemy"
   ]
  },
  {
   "cell_type": "code",
   "execution_count": 111,
   "metadata": {},
   "outputs": [
    {
     "data": {
      "text/plain": [
       "10"
      ]
     },
     "execution_count": 111,
     "metadata": {},
     "output_type": "execute_result"
    }
   ],
   "source": [
    "def gp_count_meaning(word):\n",
    "    m = 0\n",
    "    meanings_dict = semantic_change_df[semantic_change_df['word']==word]['polysemy'].tolist()\n",
    "    if meanings_dict:\n",
    "        m = meanings_dict[0]\n",
    "    else:\n",
    "        meanings_dict = PyDictionary().meaning(word)\n",
    "        if meanings_dict:\n",
    "            for key in meanings_dict:\n",
    "                m += len(meanings_dict[key])\n",
    "    return m\n",
    "\n",
    "count_meaning('love')"
   ]
  },
  {
   "cell_type": "code",
   "execution_count": null,
   "metadata": {},
   "outputs": [],
   "source": [
    "gp_semantic_change['polysemy'] = gp_semantic_change['word'].apply(gp_count_meaning)"
   ]
  },
  {
   "cell_type": "code",
   "execution_count": 113,
   "metadata": {},
   "outputs": [
    {
     "data": {
      "text/html": [
       "<div>\n",
       "<style scoped>\n",
       "    .dataframe tbody tr th:only-of-type {\n",
       "        vertical-align: middle;\n",
       "    }\n",
       "\n",
       "    .dataframe tbody tr th {\n",
       "        vertical-align: top;\n",
       "    }\n",
       "\n",
       "    .dataframe thead th {\n",
       "        text-align: right;\n",
       "    }\n",
       "</style>\n",
       "<table border=\"1\" class=\"dataframe\">\n",
       "  <thead>\n",
       "    <tr style=\"text-align: right;\">\n",
       "      <th></th>\n",
       "      <th>word</th>\n",
       "      <th>avg.change</th>\n",
       "      <th>change_1775</th>\n",
       "      <th>change_1800</th>\n",
       "      <th>change_1825</th>\n",
       "      <th>count</th>\n",
       "      <th>relative_freq</th>\n",
       "      <th>polysemy</th>\n",
       "    </tr>\n",
       "  </thead>\n",
       "  <tbody>\n",
       "    <tr>\n",
       "      <th>8395</th>\n",
       "      <td>ftp</td>\n",
       "      <td>0.0</td>\n",
       "      <td>0.0</td>\n",
       "      <td>0.0</td>\n",
       "      <td>0.0</td>\n",
       "      <td>4792</td>\n",
       "      <td>0.000031</td>\n",
       "      <td>2</td>\n",
       "    </tr>\n",
       "    <tr>\n",
       "      <th>12717</th>\n",
       "      <td>merchantability</td>\n",
       "      <td>0.0</td>\n",
       "      <td>0.0</td>\n",
       "      <td>0.0</td>\n",
       "      <td>0.0</td>\n",
       "      <td>4783</td>\n",
       "      <td>0.000031</td>\n",
       "      <td>1</td>\n",
       "    </tr>\n",
       "    <tr>\n",
       "      <th>15171</th>\n",
       "      <td>pmb</td>\n",
       "      <td>0.0</td>\n",
       "      <td>0.0</td>\n",
       "      <td>0.0</td>\n",
       "      <td>0.0</td>\n",
       "      <td>4099</td>\n",
       "      <td>0.000026</td>\n",
       "      <td>0</td>\n",
       "    </tr>\n",
       "    <tr>\n",
       "      <th>7798</th>\n",
       "      <td>filename</td>\n",
       "      <td>0.0</td>\n",
       "      <td>0.0</td>\n",
       "      <td>0.0</td>\n",
       "      <td>0.0</td>\n",
       "      <td>4854</td>\n",
       "      <td>0.000031</td>\n",
       "      <td>1</td>\n",
       "    </tr>\n",
       "    <tr>\n",
       "      <th>6102</th>\n",
       "      <td>donate</td>\n",
       "      <td>0.0</td>\n",
       "      <td>0.0</td>\n",
       "      <td>0.0</td>\n",
       "      <td>0.0</td>\n",
       "      <td>9603</td>\n",
       "      <td>0.000062</td>\n",
       "      <td>1</td>\n",
       "    </tr>\n",
       "  </tbody>\n",
       "</table>\n",
       "</div>"
      ],
      "text/plain": [
       "                  word  avg.change  change_1775  change_1800  change_1825  \\\n",
       "8395               ftp         0.0          0.0          0.0          0.0   \n",
       "12717  merchantability         0.0          0.0          0.0          0.0   \n",
       "15171              pmb         0.0          0.0          0.0          0.0   \n",
       "7798          filename         0.0          0.0          0.0          0.0   \n",
       "6102            donate         0.0          0.0          0.0          0.0   \n",
       "\n",
       "       count  relative_freq  polysemy  \n",
       "8395    4792       0.000031         2  \n",
       "12717   4783       0.000031         1  \n",
       "15171   4099       0.000026         0  \n",
       "7798    4854       0.000031         1  \n",
       "6102    9603       0.000062         1  "
      ]
     },
     "execution_count": 113,
     "metadata": {},
     "output_type": "execute_result"
    }
   ],
   "source": [
    "pd_semantic_change.head()"
   ]
  },
  {
   "cell_type": "code",
   "execution_count": 116,
   "metadata": {},
   "outputs": [
    {
     "data": {
      "text/html": [
       "<table class=\"simpletable\">\n",
       "<caption>OLS Regression Results</caption>\n",
       "<tr>\n",
       "  <th>Dep. Variable:</th>       <td>avg.change</td>    <th>  R-squared:         </th> <td>   0.122</td>\n",
       "</tr>\n",
       "<tr>\n",
       "  <th>Model:</th>                   <td>OLS</td>       <th>  Adj. R-squared:    </th> <td>   0.122</td>\n",
       "</tr>\n",
       "<tr>\n",
       "  <th>Method:</th>             <td>Least Squares</td>  <th>  F-statistic:       </th> <td>   2950.</td>\n",
       "</tr>\n",
       "<tr>\n",
       "  <th>Date:</th>             <td>Sun, 03 Jun 2018</td> <th>  Prob (F-statistic):</th>  <td>  0.00</td> \n",
       "</tr>\n",
       "<tr>\n",
       "  <th>Time:</th>                 <td>12:02:33</td>     <th>  Log-Likelihood:    </th> <td>  1652.8</td>\n",
       "</tr>\n",
       "<tr>\n",
       "  <th>No. Observations:</th>      <td> 21306</td>      <th>  AIC:               </th> <td>  -3302.</td>\n",
       "</tr>\n",
       "<tr>\n",
       "  <th>Df Residuals:</th>          <td> 21304</td>      <th>  BIC:               </th> <td>  -3286.</td>\n",
       "</tr>\n",
       "<tr>\n",
       "  <th>Df Model:</th>              <td>     1</td>      <th>                     </th>     <td> </td>   \n",
       "</tr>\n",
       "<tr>\n",
       "  <th>Covariance Type:</th>      <td>nonrobust</td>    <th>                     </th>     <td> </td>   \n",
       "</tr>\n",
       "</table>\n",
       "<table class=\"simpletable\">\n",
       "<tr>\n",
       "      <td></td>        <th>coef</th>     <th>std err</th>      <th>t</th>      <th>P>|t|</th>  <th>[0.025</th>    <th>0.975]</th>  \n",
       "</tr>\n",
       "<tr>\n",
       "  <th>const</th>    <td>    0.5737</td> <td>    0.002</td> <td>  281.871</td> <td> 0.000</td> <td>    0.570</td> <td>    0.578</td>\n",
       "</tr>\n",
       "<tr>\n",
       "  <th>polysemy</th> <td>   -0.0171</td> <td>    0.000</td> <td>  -54.311</td> <td> 0.000</td> <td>   -0.018</td> <td>   -0.016</td>\n",
       "</tr>\n",
       "</table>\n",
       "<table class=\"simpletable\">\n",
       "<tr>\n",
       "  <th>Omnibus:</th>       <td>1153.415</td> <th>  Durbin-Watson:     </th> <td>   0.236</td> \n",
       "</tr>\n",
       "<tr>\n",
       "  <th>Prob(Omnibus):</th>  <td> 0.000</td>  <th>  Jarque-Bera (JB):  </th> <td> 621.534</td> \n",
       "</tr>\n",
       "<tr>\n",
       "  <th>Skew:</th>           <td>-0.257</td>  <th>  Prob(JB):          </th> <td>1.09e-135</td>\n",
       "</tr>\n",
       "<tr>\n",
       "  <th>Kurtosis:</th>       <td> 2.340</td>  <th>  Cond. No.          </th> <td>    8.66</td> \n",
       "</tr>\n",
       "</table>"
      ],
      "text/plain": [
       "<class 'statsmodels.iolib.summary.Summary'>\n",
       "\"\"\"\n",
       "                            OLS Regression Results                            \n",
       "==============================================================================\n",
       "Dep. Variable:             avg.change   R-squared:                       0.122\n",
       "Model:                            OLS   Adj. R-squared:                  0.122\n",
       "Method:                 Least Squares   F-statistic:                     2950.\n",
       "Date:                Sun, 03 Jun 2018   Prob (F-statistic):               0.00\n",
       "Time:                        12:02:33   Log-Likelihood:                 1652.8\n",
       "No. Observations:               21306   AIC:                            -3302.\n",
       "Df Residuals:                   21304   BIC:                            -3286.\n",
       "Df Model:                           1                                         \n",
       "Covariance Type:            nonrobust                                         \n",
       "==============================================================================\n",
       "                 coef    std err          t      P>|t|      [0.025      0.975]\n",
       "------------------------------------------------------------------------------\n",
       "const          0.5737      0.002    281.871      0.000       0.570       0.578\n",
       "polysemy      -0.0171      0.000    -54.311      0.000      -0.018      -0.016\n",
       "==============================================================================\n",
       "Omnibus:                     1153.415   Durbin-Watson:                   0.236\n",
       "Prob(Omnibus):                  0.000   Jarque-Bera (JB):              621.534\n",
       "Skew:                          -0.257   Prob(JB):                    1.09e-135\n",
       "Kurtosis:                       2.340   Cond. No.                         8.66\n",
       "==============================================================================\n",
       "\n",
       "Warnings:\n",
       "[1] Standard Errors assume that the covariance matrix of the errors is correctly specified.\n",
       "\"\"\""
      ]
     },
     "execution_count": 116,
     "metadata": {},
     "output_type": "execute_result"
    }
   ],
   "source": [
    "import statsmodels.api as sm # import statsmodels \n",
    "\n",
    "X = gp_semantic_change[\"polysemy\"]\n",
    "y = gp_semantic_change[\"avg.change\"]\n",
    "X = sm.add_constant(X)\n",
    "\n",
    "model = sm.OLS(y, X).fit() ## sm.OLS(output, input)\n",
    "\n",
    "# Print out the statistics\n",
    "model.summary()"
   ]
  },
  {
   "cell_type": "code",
   "execution_count": 115,
   "metadata": {},
   "outputs": [
    {
     "data": {
      "text/plain": [
       "<matplotlib.collections.PathCollection at 0x355eb9c88>"
      ]
     },
     "execution_count": 115,
     "metadata": {},
     "output_type": "execute_result"
    },
    {
     "data": {
      "image/png": "[encoded data removed]",
      "text/plain": [
       "<Figure size 432x288 with 1 Axes>"
      ]
     },
     "metadata": {},
     "output_type": "display_data"
    }
   ],
   "source": [
    "#Scatterplot\n",
    "plt.xlabel(\"polysemy\")\n",
    "plt.ylabel(\"semantic change\")\n",
    "plt.xlim(0, gp_semantic_change[\"polysemy\"].max())\n",
    "\n",
    "plt.scatter(gp_semantic_change[\"polysemy\"],\n",
    "            gp_semantic_change[\"avg.change\"])"
   ]
  }
 ],
 "metadata": {
  "kernelspec": {
   "display_name": "Python 3",
   "language": "python",
   "name": "python3"
  },
  "language_info": {
   "codemirror_mode": {
    "name": "ipython",
    "version": 3
   },
   "file_extension": ".py",
   "mimetype": "text/x-python",
   "name": "python",
   "nbconvert_exporter": "python",
   "pygments_lexer": "ipython3",
   "version": "3.6.3"
  }
 },
 "nbformat": 4,
 "nbformat_minor": 2
}
